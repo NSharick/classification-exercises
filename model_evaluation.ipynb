{
 "cells": [
  {
   "cell_type": "markdown",
   "id": "b7486654",
   "metadata": {},
   "source": [
    "# Model Evaluation Exercises"
   ]
  },
  {
   "cell_type": "code",
   "execution_count": 1,
   "id": "f72a173a",
   "metadata": {},
   "outputs": [],
   "source": [
    "import pandas as pd\n",
    "import numpy as np"
   ]
  },
  {
   "cell_type": "markdown",
   "id": "b68addb7",
   "metadata": {},
   "source": [
    "#### 1. Given the following confusion matrix, evaluate (by hand) the model's performance.\n",
    "\n",
    "\n",
    "|               | pred dog   | pred cat   |\n",
    "|:------------  |-----------:|-----------:|\n",
    "| actual dog    |         46 |         7  |\n",
    "| actual cat    |         13 |         34 |\n",
    "\n",
    "- In the context of this problem, what is a false positive?\n",
    "- In the context of this problem, what is a false negative?\n",
    "- How would you describe this model?"
   ]
  },
  {
   "cell_type": "markdown",
   "id": "f38a80d2",
   "metadata": {},
   "source": [
    "##### False Positive:\n",
    "A false positive would be it predicted a dog but it was actually a cat (count = 13)\n",
    "\n",
    "##### False Negative:\n",
    "A false negative would be that it predicted a cat but it was actuall a dog (count = 7)\n",
    "\n",
    "##### Model Description:\n",
    "Accuracy = (46 + 34) / (46 + 7 + 13 + 34) = 80 / 100 = 0.8\n",
    "\n",
    "Precision = 46 / (46 + 13) = 46 / 59 = 0.78\n",
    "\n",
    "Recall = 46 / (46 + 7) = 46 / 53 = 0.87"
   ]
  },
  {
   "cell_type": "markdown",
   "id": "cac3a8db",
   "metadata": {},
   "source": [
    "---"
   ]
  },
  {
   "cell_type": "markdown",
   "id": "17b25b36",
   "metadata": {},
   "source": [
    "#### 2. You are working as a datascientist working for Codeup Cody Creator (C3 for short), a rubber-duck manufacturing plant.\n",
    "\n",
    "Unfortunately, some of the rubber ducks that are produced will have defects. Your team has built several models that try to predict those defects, and the data from their predictions can be found here.\n",
    "\n",
    "Use the predictions dataset and pandas to help answer the following questions:\n",
    "\n",
    "- An internal team wants to investigate the cause of the manufacturing defects. They tell you that they want to identify as many of the ducks that have a defect as possible. Which evaluation metric would be appropriate here? Which model would be the best fit for this use case?\n",
    "- Recently several stories in the local news have come out highlighting customers who received a rubber duck with a defect, and portraying C3 in a bad light. The PR team has decided to launch a program that gives customers with a defective duck a vacation to Hawaii. They need you to predict which ducks will have defects, but tell you the really don't want to accidentally give out a vacation package when the duck really doesn't have a defect. Which evaluation metric would be appropriate here? Which model would be the best fit for this use case?"
   ]
  },
  {
   "cell_type": "code",
   "execution_count": 4,
   "id": "a52d19ba",
   "metadata": {},
   "outputs": [],
   "source": [
    "c3_df = pd.read_csv('c3.csv')"
   ]
  },
  {
   "cell_type": "code",
   "execution_count": 6,
   "id": "7d142f90",
   "metadata": {},
   "outputs": [
    {
     "data": {
      "text/html": [
       "<div>\n",
       "<style scoped>\n",
       "    .dataframe tbody tr th:only-of-type {\n",
       "        vertical-align: middle;\n",
       "    }\n",
       "\n",
       "    .dataframe tbody tr th {\n",
       "        vertical-align: top;\n",
       "    }\n",
       "\n",
       "    .dataframe thead th {\n",
       "        text-align: right;\n",
       "    }\n",
       "</style>\n",
       "<table border=\"1\" class=\"dataframe\">\n",
       "  <thead>\n",
       "    <tr style=\"text-align: right;\">\n",
       "      <th></th>\n",
       "      <th>actual</th>\n",
       "      <th>model1</th>\n",
       "      <th>model2</th>\n",
       "      <th>model3</th>\n",
       "    </tr>\n",
       "  </thead>\n",
       "  <tbody>\n",
       "    <tr>\n",
       "      <th>0</th>\n",
       "      <td>No Defect</td>\n",
       "      <td>No Defect</td>\n",
       "      <td>Defect</td>\n",
       "      <td>No Defect</td>\n",
       "    </tr>\n",
       "    <tr>\n",
       "      <th>1</th>\n",
       "      <td>No Defect</td>\n",
       "      <td>No Defect</td>\n",
       "      <td>Defect</td>\n",
       "      <td>Defect</td>\n",
       "    </tr>\n",
       "    <tr>\n",
       "      <th>2</th>\n",
       "      <td>No Defect</td>\n",
       "      <td>No Defect</td>\n",
       "      <td>Defect</td>\n",
       "      <td>No Defect</td>\n",
       "    </tr>\n",
       "    <tr>\n",
       "      <th>3</th>\n",
       "      <td>No Defect</td>\n",
       "      <td>Defect</td>\n",
       "      <td>Defect</td>\n",
       "      <td>Defect</td>\n",
       "    </tr>\n",
       "    <tr>\n",
       "      <th>4</th>\n",
       "      <td>No Defect</td>\n",
       "      <td>No Defect</td>\n",
       "      <td>Defect</td>\n",
       "      <td>No Defect</td>\n",
       "    </tr>\n",
       "  </tbody>\n",
       "</table>\n",
       "</div>"
      ],
      "text/plain": [
       "      actual     model1  model2     model3\n",
       "0  No Defect  No Defect  Defect  No Defect\n",
       "1  No Defect  No Defect  Defect     Defect\n",
       "2  No Defect  No Defect  Defect  No Defect\n",
       "3  No Defect     Defect  Defect     Defect\n",
       "4  No Defect  No Defect  Defect  No Defect"
      ]
     },
     "execution_count": 6,
     "metadata": {},
     "output_type": "execute_result"
    }
   ],
   "source": [
    "c3_df.head()"
   ]
  },
  {
   "cell_type": "code",
   "execution_count": 22,
   "id": "b5734e3a",
   "metadata": {},
   "outputs": [
    {
     "data": {
      "text/plain": [
       "No Defect    184\n",
       "Defect        16\n",
       "Name: actual, dtype: int64"
      ]
     },
     "execution_count": 22,
     "metadata": {},
     "output_type": "execute_result"
    }
   ],
   "source": [
    "c3_df.actual.value_counts()"
   ]
  },
  {
   "cell_type": "code",
   "execution_count": 7,
   "id": "a80c1d49",
   "metadata": {},
   "outputs": [
    {
     "data": {
      "text/html": [
       "<div>\n",
       "<style scoped>\n",
       "    .dataframe tbody tr th:only-of-type {\n",
       "        vertical-align: middle;\n",
       "    }\n",
       "\n",
       "    .dataframe tbody tr th {\n",
       "        vertical-align: top;\n",
       "    }\n",
       "\n",
       "    .dataframe thead th {\n",
       "        text-align: right;\n",
       "    }\n",
       "</style>\n",
       "<table border=\"1\" class=\"dataframe\">\n",
       "  <thead>\n",
       "    <tr style=\"text-align: right;\">\n",
       "      <th>actual</th>\n",
       "      <th>Defect</th>\n",
       "      <th>No Defect</th>\n",
       "    </tr>\n",
       "    <tr>\n",
       "      <th>model1</th>\n",
       "      <th></th>\n",
       "      <th></th>\n",
       "    </tr>\n",
       "  </thead>\n",
       "  <tbody>\n",
       "    <tr>\n",
       "      <th>Defect</th>\n",
       "      <td>8</td>\n",
       "      <td>2</td>\n",
       "    </tr>\n",
       "    <tr>\n",
       "      <th>No Defect</th>\n",
       "      <td>8</td>\n",
       "      <td>182</td>\n",
       "    </tr>\n",
       "  </tbody>\n",
       "</table>\n",
       "</div>"
      ],
      "text/plain": [
       "actual     Defect  No Defect\n",
       "model1                      \n",
       "Defect          8          2\n",
       "No Defect       8        182"
      ]
     },
     "execution_count": 7,
     "metadata": {},
     "output_type": "execute_result"
    }
   ],
   "source": [
    "#model 1 evaluation\n",
    "# - positive = has a defect\n",
    "\n",
    "#create a crosstab of the actual against model1\n",
    "m1 = pd.crosstab(c3_df.model1, c3_df.actual)\n",
    "m1"
   ]
  },
  {
   "cell_type": "code",
   "execution_count": 12,
   "id": "5edb7f24",
   "metadata": {},
   "outputs": [
    {
     "name": "stdout",
     "output_type": "stream",
     "text": [
      "model 1 accuracy: 95.00%\n",
      "-----\n",
      "model 1 recall: 50.00%\n",
      "-----\n",
      "model 1 precision: 80.00%\n"
     ]
    }
   ],
   "source": [
    "m1_acc = (c3_df.model1 == c3_df.actual).mean()\n",
    "subset1 = c3_df[c3_df.model1 == 'Defect']\n",
    "m1_pre = (subset1.model1 == subset1.actual).mean()\n",
    "subset2 = c3_df[c3_df.actual == 'Defect']\n",
    "m1_rec = (subset2.model1 == subset2.actual).mean()\n",
    "\n",
    "print(f'model 1 accuracy: {m1_acc:.2%}')\n",
    "print('-----')\n",
    "print(f'model 1 recall: {m1_rec:.2%}')\n",
    "print('-----')\n",
    "print(f'model 1 precision: {m1_pre:.2%}')"
   ]
  },
  {
   "cell_type": "code",
   "execution_count": 13,
   "id": "c6c1e712",
   "metadata": {},
   "outputs": [
    {
     "data": {
      "text/html": [
       "<div>\n",
       "<style scoped>\n",
       "    .dataframe tbody tr th:only-of-type {\n",
       "        vertical-align: middle;\n",
       "    }\n",
       "\n",
       "    .dataframe tbody tr th {\n",
       "        vertical-align: top;\n",
       "    }\n",
       "\n",
       "    .dataframe thead th {\n",
       "        text-align: right;\n",
       "    }\n",
       "</style>\n",
       "<table border=\"1\" class=\"dataframe\">\n",
       "  <thead>\n",
       "    <tr style=\"text-align: right;\">\n",
       "      <th>actual</th>\n",
       "      <th>Defect</th>\n",
       "      <th>No Defect</th>\n",
       "    </tr>\n",
       "    <tr>\n",
       "      <th>model2</th>\n",
       "      <th></th>\n",
       "      <th></th>\n",
       "    </tr>\n",
       "  </thead>\n",
       "  <tbody>\n",
       "    <tr>\n",
       "      <th>Defect</th>\n",
       "      <td>9</td>\n",
       "      <td>81</td>\n",
       "    </tr>\n",
       "    <tr>\n",
       "      <th>No Defect</th>\n",
       "      <td>7</td>\n",
       "      <td>103</td>\n",
       "    </tr>\n",
       "  </tbody>\n",
       "</table>\n",
       "</div>"
      ],
      "text/plain": [
       "actual     Defect  No Defect\n",
       "model2                      \n",
       "Defect          9         81\n",
       "No Defect       7        103"
      ]
     },
     "execution_count": 13,
     "metadata": {},
     "output_type": "execute_result"
    }
   ],
   "source": [
    "#model 2 evaluation\n",
    "# - positive = has a defect\n",
    "\n",
    "#create a crosstab of the actual against model2\n",
    "m2 = pd.crosstab(c3_df.model2, c3_df.actual)\n",
    "m2"
   ]
  },
  {
   "cell_type": "code",
   "execution_count": 14,
   "id": "edc91084",
   "metadata": {},
   "outputs": [
    {
     "name": "stdout",
     "output_type": "stream",
     "text": [
      "model 2 accuracy: 56.00%\n",
      "-----\n",
      "model 2 recall: 56.25%\n",
      "-----\n",
      "model 2 precision: 10.00%\n"
     ]
    }
   ],
   "source": [
    "m2_acc = (c3_df.model2 == c3_df.actual).mean()\n",
    "subset3 = c3_df[c3_df.model2 == 'Defect']\n",
    "m2_pre = (subset3.model2 == subset3.actual).mean()\n",
    "subset4 = c3_df[c3_df.actual == 'Defect']\n",
    "m2_rec = (subset4.model2 == subset4.actual).mean()\n",
    "\n",
    "print(f'model 2 accuracy: {m2_acc:.2%}')\n",
    "print('-----')\n",
    "print(f'model 2 recall: {m2_rec:.2%}')\n",
    "print('-----')\n",
    "print(f'model 2 precision: {m2_pre:.2%}')"
   ]
  },
  {
   "cell_type": "code",
   "execution_count": 15,
   "id": "a3ba5839",
   "metadata": {},
   "outputs": [
    {
     "data": {
      "text/html": [
       "<div>\n",
       "<style scoped>\n",
       "    .dataframe tbody tr th:only-of-type {\n",
       "        vertical-align: middle;\n",
       "    }\n",
       "\n",
       "    .dataframe tbody tr th {\n",
       "        vertical-align: top;\n",
       "    }\n",
       "\n",
       "    .dataframe thead th {\n",
       "        text-align: right;\n",
       "    }\n",
       "</style>\n",
       "<table border=\"1\" class=\"dataframe\">\n",
       "  <thead>\n",
       "    <tr style=\"text-align: right;\">\n",
       "      <th>actual</th>\n",
       "      <th>Defect</th>\n",
       "      <th>No Defect</th>\n",
       "    </tr>\n",
       "    <tr>\n",
       "      <th>model3</th>\n",
       "      <th></th>\n",
       "      <th></th>\n",
       "    </tr>\n",
       "  </thead>\n",
       "  <tbody>\n",
       "    <tr>\n",
       "      <th>Defect</th>\n",
       "      <td>13</td>\n",
       "      <td>86</td>\n",
       "    </tr>\n",
       "    <tr>\n",
       "      <th>No Defect</th>\n",
       "      <td>3</td>\n",
       "      <td>98</td>\n",
       "    </tr>\n",
       "  </tbody>\n",
       "</table>\n",
       "</div>"
      ],
      "text/plain": [
       "actual     Defect  No Defect\n",
       "model3                      \n",
       "Defect         13         86\n",
       "No Defect       3         98"
      ]
     },
     "execution_count": 15,
     "metadata": {},
     "output_type": "execute_result"
    }
   ],
   "source": [
    "#model 3 evaluation\n",
    "# - positive = has a defect\n",
    "\n",
    "#create a crosstab of the actual against model3\n",
    "m3 = pd.crosstab(c3_df.model3, c3_df.actual)\n",
    "m3"
   ]
  },
  {
   "cell_type": "code",
   "execution_count": 16,
   "id": "4ffe26bc",
   "metadata": {},
   "outputs": [
    {
     "name": "stdout",
     "output_type": "stream",
     "text": [
      "model 3 accuracy: 55.50%\n",
      "-----\n",
      "model 3 recall: 81.25%\n",
      "-----\n",
      "model 3 precision: 13.13%\n"
     ]
    }
   ],
   "source": [
    "m3_acc = (c3_df.model3 == c3_df.actual).mean()\n",
    "subset5 = c3_df[c3_df.model3 == 'Defect']\n",
    "m3_pre = (subset5.model3 == subset5.actual).mean()\n",
    "subset6 = c3_df[c3_df.actual == 'Defect']\n",
    "m3_rec = (subset6.model3 == subset6.actual).mean()\n",
    "\n",
    "print(f'model 3 accuracy: {m3_acc:.2%}')\n",
    "print('-----')\n",
    "print(f'model 3 recall: {m3_rec:.2%}')\n",
    "print('-----')\n",
    "print(f'model 3 precision: {m3_pre:.2%}')"
   ]
  },
  {
   "cell_type": "code",
   "execution_count": 18,
   "id": "70dde0aa",
   "metadata": {},
   "outputs": [
    {
     "data": {
      "text/html": [
       "<div>\n",
       "<style scoped>\n",
       "    .dataframe tbody tr th:only-of-type {\n",
       "        vertical-align: middle;\n",
       "    }\n",
       "\n",
       "    .dataframe tbody tr th {\n",
       "        vertical-align: top;\n",
       "    }\n",
       "\n",
       "    .dataframe thead th {\n",
       "        text-align: right;\n",
       "    }\n",
       "</style>\n",
       "<table border=\"1\" class=\"dataframe\">\n",
       "  <thead>\n",
       "    <tr style=\"text-align: right;\">\n",
       "      <th></th>\n",
       "      <th>actual</th>\n",
       "      <th>model1</th>\n",
       "      <th>model2</th>\n",
       "      <th>model3</th>\n",
       "      <th>baseline</th>\n",
       "    </tr>\n",
       "  </thead>\n",
       "  <tbody>\n",
       "    <tr>\n",
       "      <th>0</th>\n",
       "      <td>No Defect</td>\n",
       "      <td>No Defect</td>\n",
       "      <td>Defect</td>\n",
       "      <td>No Defect</td>\n",
       "      <td>No Defect</td>\n",
       "    </tr>\n",
       "    <tr>\n",
       "      <th>1</th>\n",
       "      <td>No Defect</td>\n",
       "      <td>No Defect</td>\n",
       "      <td>Defect</td>\n",
       "      <td>Defect</td>\n",
       "      <td>No Defect</td>\n",
       "    </tr>\n",
       "    <tr>\n",
       "      <th>2</th>\n",
       "      <td>No Defect</td>\n",
       "      <td>No Defect</td>\n",
       "      <td>Defect</td>\n",
       "      <td>No Defect</td>\n",
       "      <td>No Defect</td>\n",
       "    </tr>\n",
       "    <tr>\n",
       "      <th>3</th>\n",
       "      <td>No Defect</td>\n",
       "      <td>Defect</td>\n",
       "      <td>Defect</td>\n",
       "      <td>Defect</td>\n",
       "      <td>No Defect</td>\n",
       "    </tr>\n",
       "    <tr>\n",
       "      <th>4</th>\n",
       "      <td>No Defect</td>\n",
       "      <td>No Defect</td>\n",
       "      <td>Defect</td>\n",
       "      <td>No Defect</td>\n",
       "      <td>No Defect</td>\n",
       "    </tr>\n",
       "  </tbody>\n",
       "</table>\n",
       "</div>"
      ],
      "text/plain": [
       "      actual     model1  model2     model3   baseline\n",
       "0  No Defect  No Defect  Defect  No Defect  No Defect\n",
       "1  No Defect  No Defect  Defect     Defect  No Defect\n",
       "2  No Defect  No Defect  Defect  No Defect  No Defect\n",
       "3  No Defect     Defect  Defect     Defect  No Defect\n",
       "4  No Defect  No Defect  Defect  No Defect  No Defect"
      ]
     },
     "execution_count": 18,
     "metadata": {},
     "output_type": "execute_result"
    }
   ],
   "source": [
    "#add a baseline column to df to make comparisons\n",
    "#baseline value = \"No Defect\"\n",
    "c3_df['baseline'] = 'No Defect'\n",
    "c3_df.head()"
   ]
  },
  {
   "cell_type": "code",
   "execution_count": 19,
   "id": "a904c01d",
   "metadata": {},
   "outputs": [
    {
     "name": "stdout",
     "output_type": "stream",
     "text": [
      "baseline accuracy: 92.00%\n",
      "-----\n",
      "baseline recall: 0.00%\n",
      "-----\n",
      "baseline precision: nan%\n"
     ]
    }
   ],
   "source": [
    "base_acc = (c3_df.baseline == c3_df.actual).mean()\n",
    "subset7 = c3_df[c3_df.baseline == 'Defect']\n",
    "base_pre = (subset7.baseline == subset7.actual).mean()\n",
    "subset8 = c3_df[c3_df.actual == 'Defect']\n",
    "base_rec = (subset8.baseline == subset8.actual).mean()\n",
    "\n",
    "print(f'baseline accuracy: {base_acc:.2%}')\n",
    "print('-----')\n",
    "print(f'baseline recall: {base_rec:.2%}')\n",
    "print('-----')\n",
    "print(f'baseline precision: {base_pre:.2%}')"
   ]
  },
  {
   "cell_type": "code",
   "execution_count": 20,
   "id": "efab5b79",
   "metadata": {},
   "outputs": [
    {
     "name": "stdout",
     "output_type": "stream",
     "text": [
      "baseline accuracy: 92.00%\n",
      "model 1 accuracy: 95.00%\n",
      "model 2 accuracy: 56.00%\n",
      "model 3 accuracy: 55.50%\n",
      "-----\n",
      "baseline recall: 0.00%\n",
      "model 1 recall: 50.00%\n",
      "model 2 recall: 56.25%\n",
      "model 3 recall: 81.25%\n",
      "-----\n",
      "baseline precision: nan%\n",
      "model 1 precision: 80.00%\n",
      "model 2 precision: 10.00%\n",
      "model 3 precision: 13.13%\n"
     ]
    }
   ],
   "source": [
    "#Summary for all three models together\n",
    "#baseline = No Defect\n",
    "print(f'baseline accuracy: {base_acc:.2%}')\n",
    "print(f'model 1 accuracy: {m1_acc:.2%}')\n",
    "print(f'model 2 accuracy: {m2_acc:.2%}')\n",
    "print(f'model 3 accuracy: {m3_acc:.2%}')\n",
    "print('-----')\n",
    "print(f'baseline recall: {base_rec:.2%}')\n",
    "print(f'model 1 recall: {m1_rec:.2%}')\n",
    "print(f'model 2 recall: {m2_rec:.2%}')\n",
    "print(f'model 3 recall: {m3_rec:.2%}')\n",
    "print('-----')\n",
    "print(f'baseline precision: {base_pre:.2%}')\n",
    "print(f'model 1 precision: {m1_pre:.2%}')\n",
    "print(f'model 2 precision: {m2_pre:.2%}')\n",
    "print(f'model 3 precision: {m3_pre:.2%}')"
   ]
  },
  {
   "cell_type": "markdown",
   "id": "dfe4db6e",
   "metadata": {},
   "source": [
    "##### Which model would be the best to detect the most defects possible?\n",
    "- Model 3 has the highest recall value meaning it would have the least chance of making a false negative prediction and would catch the most ducks with a defect\n",
    "\n",
    "##### Which model would have the least chance of a false positive and thus giving a free vacation to someone with a duck that does not have a defect\n",
    "- Model 1 has the highest precision value meaning it would have the least chance of making a false positive prediction"
   ]
  },
  {
   "cell_type": "markdown",
   "id": "73fd9aed",
   "metadata": {},
   "source": [
    "---"
   ]
  },
  {
   "cell_type": "markdown",
   "id": "e667b77b",
   "metadata": {},
   "source": [
    "#### 3. You are working as a data scientist for Gives You Paws ™, a subscription based service that shows you cute pictures of dogs or cats (or both for an additional fee).\n",
    "\n",
    "At Gives You Paws, anyone can upload pictures of their cats or dogs. The photos are then put through a two step process. First an automated algorithm tags pictures as either a cat or a dog (Phase I). Next, the photos that have been initially identified are put through another round of review, possibly with some human oversight, before being presented to the users (Phase II).\n",
    "\n",
    "Several models have already been developed with the data, and you can find their results here.\n",
    "\n",
    "Given this dataset, use pandas to create a baseline model (i.e. a model that just predicts the most common class) and answer the following questions:\n",
    "\n",
    "- In terms of accuracy, how do the various models compare to the baseline model? Are any of the models better than the baseline?\n",
    "- Suppose you are working on a team that solely deals with dog pictures. Which of these models would you recomend for Phase I? For Phase II?\n",
    "- Suppose you are working on a team that solely deals with cat pictures. Which of these models would you recomend for - Phase I? For Phase II?"
   ]
  },
  {
   "cell_type": "code",
   "execution_count": 23,
   "id": "284d1755",
   "metadata": {},
   "outputs": [
    {
     "data": {
      "text/html": [
       "<div>\n",
       "<style scoped>\n",
       "    .dataframe tbody tr th:only-of-type {\n",
       "        vertical-align: middle;\n",
       "    }\n",
       "\n",
       "    .dataframe tbody tr th {\n",
       "        vertical-align: top;\n",
       "    }\n",
       "\n",
       "    .dataframe thead th {\n",
       "        text-align: right;\n",
       "    }\n",
       "</style>\n",
       "<table border=\"1\" class=\"dataframe\">\n",
       "  <thead>\n",
       "    <tr style=\"text-align: right;\">\n",
       "      <th></th>\n",
       "      <th>actual</th>\n",
       "      <th>model1</th>\n",
       "      <th>model2</th>\n",
       "      <th>model3</th>\n",
       "      <th>model4</th>\n",
       "    </tr>\n",
       "  </thead>\n",
       "  <tbody>\n",
       "    <tr>\n",
       "      <th>0</th>\n",
       "      <td>cat</td>\n",
       "      <td>cat</td>\n",
       "      <td>dog</td>\n",
       "      <td>cat</td>\n",
       "      <td>dog</td>\n",
       "    </tr>\n",
       "    <tr>\n",
       "      <th>1</th>\n",
       "      <td>dog</td>\n",
       "      <td>dog</td>\n",
       "      <td>cat</td>\n",
       "      <td>cat</td>\n",
       "      <td>dog</td>\n",
       "    </tr>\n",
       "    <tr>\n",
       "      <th>2</th>\n",
       "      <td>dog</td>\n",
       "      <td>cat</td>\n",
       "      <td>cat</td>\n",
       "      <td>cat</td>\n",
       "      <td>dog</td>\n",
       "    </tr>\n",
       "    <tr>\n",
       "      <th>3</th>\n",
       "      <td>dog</td>\n",
       "      <td>dog</td>\n",
       "      <td>dog</td>\n",
       "      <td>cat</td>\n",
       "      <td>dog</td>\n",
       "    </tr>\n",
       "    <tr>\n",
       "      <th>4</th>\n",
       "      <td>cat</td>\n",
       "      <td>cat</td>\n",
       "      <td>cat</td>\n",
       "      <td>dog</td>\n",
       "      <td>dog</td>\n",
       "    </tr>\n",
       "  </tbody>\n",
       "</table>\n",
       "</div>"
      ],
      "text/plain": [
       "  actual model1 model2 model3 model4\n",
       "0    cat    cat    dog    cat    dog\n",
       "1    dog    dog    cat    cat    dog\n",
       "2    dog    cat    cat    cat    dog\n",
       "3    dog    dog    dog    cat    dog\n",
       "4    cat    cat    cat    dog    dog"
      ]
     },
     "execution_count": 23,
     "metadata": {},
     "output_type": "execute_result"
    }
   ],
   "source": [
    "paws = pd.read_csv('gives_you_paws.csv')\n",
    "paws.head()"
   ]
  },
  {
   "cell_type": "code",
   "execution_count": 24,
   "id": "1a68d077",
   "metadata": {},
   "outputs": [
    {
     "data": {
      "text/plain": [
       "dog    3254\n",
       "cat    1746\n",
       "Name: actual, dtype: int64"
      ]
     },
     "execution_count": 24,
     "metadata": {},
     "output_type": "execute_result"
    }
   ],
   "source": [
    "paws.actual.value_counts()"
   ]
  },
  {
   "cell_type": "code",
   "execution_count": 25,
   "id": "1d4548a3",
   "metadata": {},
   "outputs": [
    {
     "data": {
      "text/html": [
       "<div>\n",
       "<style scoped>\n",
       "    .dataframe tbody tr th:only-of-type {\n",
       "        vertical-align: middle;\n",
       "    }\n",
       "\n",
       "    .dataframe tbody tr th {\n",
       "        vertical-align: top;\n",
       "    }\n",
       "\n",
       "    .dataframe thead th {\n",
       "        text-align: right;\n",
       "    }\n",
       "</style>\n",
       "<table border=\"1\" class=\"dataframe\">\n",
       "  <thead>\n",
       "    <tr style=\"text-align: right;\">\n",
       "      <th>actual</th>\n",
       "      <th>cat</th>\n",
       "      <th>dog</th>\n",
       "    </tr>\n",
       "    <tr>\n",
       "      <th>model1</th>\n",
       "      <th></th>\n",
       "      <th></th>\n",
       "    </tr>\n",
       "  </thead>\n",
       "  <tbody>\n",
       "    <tr>\n",
       "      <th>cat</th>\n",
       "      <td>1423</td>\n",
       "      <td>640</td>\n",
       "    </tr>\n",
       "    <tr>\n",
       "      <th>dog</th>\n",
       "      <td>323</td>\n",
       "      <td>2614</td>\n",
       "    </tr>\n",
       "  </tbody>\n",
       "</table>\n",
       "</div>"
      ],
      "text/plain": [
       "actual   cat   dog\n",
       "model1            \n",
       "cat     1423   640\n",
       "dog      323  2614"
      ]
     },
     "execution_count": 25,
     "metadata": {},
     "output_type": "execute_result"
    }
   ],
   "source": [
    "#model 1 evaluation\n",
    "# - positive = is dog\n",
    "\n",
    "#create a crosstab of the actual against model1\n",
    "pm1 = pd.crosstab(paws.model1, paws.actual)\n",
    "pm1"
   ]
  },
  {
   "cell_type": "code",
   "execution_count": 26,
   "id": "d16a52f8",
   "metadata": {},
   "outputs": [
    {
     "name": "stdout",
     "output_type": "stream",
     "text": [
      "Paws model 1 accuracy: 80.74%\n",
      "-----\n",
      "Paws model 1 recall: 80.33%\n",
      "-----\n",
      "Paws model 1 precision: 89.00%\n"
     ]
    }
   ],
   "source": [
    "pm1_acc = (paws.model1 == paws.actual).mean()\n",
    "p_subset1 = paws[paws.model1 == 'dog']\n",
    "pm1_pre = (p_subset1.model1 == p_subset1.actual).mean()\n",
    "p_subset2 = paws[paws.actual == 'dog']\n",
    "pm1_rec = (p_subset2.model1 == p_subset2.actual).mean()\n",
    "\n",
    "print(f'Paws model 1 accuracy: {pm1_acc:.2%}')\n",
    "print('-----')\n",
    "print(f'Paws model 1 recall: {pm1_rec:.2%}')\n",
    "print('-----')\n",
    "print(f'Paws model 1 precision: {pm1_pre:.2%}')"
   ]
  },
  {
   "cell_type": "code",
   "execution_count": 27,
   "id": "0b79568c",
   "metadata": {},
   "outputs": [
    {
     "data": {
      "text/html": [
       "<div>\n",
       "<style scoped>\n",
       "    .dataframe tbody tr th:only-of-type {\n",
       "        vertical-align: middle;\n",
       "    }\n",
       "\n",
       "    .dataframe tbody tr th {\n",
       "        vertical-align: top;\n",
       "    }\n",
       "\n",
       "    .dataframe thead th {\n",
       "        text-align: right;\n",
       "    }\n",
       "</style>\n",
       "<table border=\"1\" class=\"dataframe\">\n",
       "  <thead>\n",
       "    <tr style=\"text-align: right;\">\n",
       "      <th>actual</th>\n",
       "      <th>cat</th>\n",
       "      <th>dog</th>\n",
       "    </tr>\n",
       "    <tr>\n",
       "      <th>model2</th>\n",
       "      <th></th>\n",
       "      <th></th>\n",
       "    </tr>\n",
       "  </thead>\n",
       "  <tbody>\n",
       "    <tr>\n",
       "      <th>cat</th>\n",
       "      <td>1555</td>\n",
       "      <td>1657</td>\n",
       "    </tr>\n",
       "    <tr>\n",
       "      <th>dog</th>\n",
       "      <td>191</td>\n",
       "      <td>1597</td>\n",
       "    </tr>\n",
       "  </tbody>\n",
       "</table>\n",
       "</div>"
      ],
      "text/plain": [
       "actual   cat   dog\n",
       "model2            \n",
       "cat     1555  1657\n",
       "dog      191  1597"
      ]
     },
     "execution_count": 27,
     "metadata": {},
     "output_type": "execute_result"
    }
   ],
   "source": [
    "#model 2 evaluation\n",
    "# - positive = is dog\n",
    "\n",
    "#create a crosstab of the actual against model2\n",
    "pm2 = pd.crosstab(paws.model2, paws.actual)\n",
    "pm2"
   ]
  },
  {
   "cell_type": "code",
   "execution_count": 28,
   "id": "33ce7a5d",
   "metadata": {},
   "outputs": [
    {
     "name": "stdout",
     "output_type": "stream",
     "text": [
      "Paws model 2 accuracy: 63.04%\n",
      "-----\n",
      "Paws model 2 recall: 49.08%\n",
      "-----\n",
      "Paws model 2 precision: 89.32%\n"
     ]
    }
   ],
   "source": [
    "pm2_acc = (paws.model2 == paws.actual).mean()\n",
    "p_subset3 = paws[paws.model2 == 'dog']\n",
    "pm2_pre = (p_subset3.model2 == p_subset3.actual).mean()\n",
    "p_subset4 = paws[paws.actual == 'dog']\n",
    "pm2_rec = (p_subset4.model2 == p_subset4.actual).mean()\n",
    "\n",
    "print(f'Paws model 2 accuracy: {pm2_acc:.2%}')\n",
    "print('-----')\n",
    "print(f'Paws model 2 recall: {pm2_rec:.2%}')\n",
    "print('-----')\n",
    "print(f'Paws model 2 precision: {pm2_pre:.2%}')"
   ]
  },
  {
   "cell_type": "code",
   "execution_count": 29,
   "id": "8d8c6c5b",
   "metadata": {},
   "outputs": [
    {
     "data": {
      "text/html": [
       "<div>\n",
       "<style scoped>\n",
       "    .dataframe tbody tr th:only-of-type {\n",
       "        vertical-align: middle;\n",
       "    }\n",
       "\n",
       "    .dataframe tbody tr th {\n",
       "        vertical-align: top;\n",
       "    }\n",
       "\n",
       "    .dataframe thead th {\n",
       "        text-align: right;\n",
       "    }\n",
       "</style>\n",
       "<table border=\"1\" class=\"dataframe\">\n",
       "  <thead>\n",
       "    <tr style=\"text-align: right;\">\n",
       "      <th>actual</th>\n",
       "      <th>cat</th>\n",
       "      <th>dog</th>\n",
       "    </tr>\n",
       "    <tr>\n",
       "      <th>model3</th>\n",
       "      <th></th>\n",
       "      <th></th>\n",
       "    </tr>\n",
       "  </thead>\n",
       "  <tbody>\n",
       "    <tr>\n",
       "      <th>cat</th>\n",
       "      <td>893</td>\n",
       "      <td>1599</td>\n",
       "    </tr>\n",
       "    <tr>\n",
       "      <th>dog</th>\n",
       "      <td>853</td>\n",
       "      <td>1655</td>\n",
       "    </tr>\n",
       "  </tbody>\n",
       "</table>\n",
       "</div>"
      ],
      "text/plain": [
       "actual  cat   dog\n",
       "model3           \n",
       "cat     893  1599\n",
       "dog     853  1655"
      ]
     },
     "execution_count": 29,
     "metadata": {},
     "output_type": "execute_result"
    }
   ],
   "source": [
    "#model 3 evaluation\n",
    "# - positive = is dog\n",
    "\n",
    "#create a crosstab of the actual against model3\n",
    "pm3 = pd.crosstab(paws.model3, paws.actual)\n",
    "pm3"
   ]
  },
  {
   "cell_type": "code",
   "execution_count": 30,
   "id": "44290d87",
   "metadata": {},
   "outputs": [
    {
     "name": "stdout",
     "output_type": "stream",
     "text": [
      "Paws model 3 accuracy: 50.96%\n",
      "-----\n",
      "Paws model 3 recall: 50.86%\n",
      "-----\n",
      "Paws model 3 precision: 65.99%\n"
     ]
    }
   ],
   "source": [
    "pm3_acc = (paws.model3 == paws.actual).mean()\n",
    "p_subset5 = paws[paws.model3 == 'dog']\n",
    "pm3_pre = (p_subset5.model3 == p_subset5.actual).mean()\n",
    "p_subset6 = paws[paws.actual == 'dog']\n",
    "pm3_rec = (p_subset6.model3 == p_subset6.actual).mean()\n",
    "\n",
    "print(f'Paws model 3 accuracy: {pm3_acc:.2%}')\n",
    "print('-----')\n",
    "print(f'Paws model 3 recall: {pm3_rec:.2%}')\n",
    "print('-----')\n",
    "print(f'Paws model 3 precision: {pm3_pre:.2%}')"
   ]
  },
  {
   "cell_type": "code",
   "execution_count": 31,
   "id": "8bb5baaa",
   "metadata": {},
   "outputs": [
    {
     "data": {
      "text/html": [
       "<div>\n",
       "<style scoped>\n",
       "    .dataframe tbody tr th:only-of-type {\n",
       "        vertical-align: middle;\n",
       "    }\n",
       "\n",
       "    .dataframe tbody tr th {\n",
       "        vertical-align: top;\n",
       "    }\n",
       "\n",
       "    .dataframe thead th {\n",
       "        text-align: right;\n",
       "    }\n",
       "</style>\n",
       "<table border=\"1\" class=\"dataframe\">\n",
       "  <thead>\n",
       "    <tr style=\"text-align: right;\">\n",
       "      <th>actual</th>\n",
       "      <th>cat</th>\n",
       "      <th>dog</th>\n",
       "    </tr>\n",
       "    <tr>\n",
       "      <th>model4</th>\n",
       "      <th></th>\n",
       "      <th></th>\n",
       "    </tr>\n",
       "  </thead>\n",
       "  <tbody>\n",
       "    <tr>\n",
       "      <th>cat</th>\n",
       "      <td>603</td>\n",
       "      <td>144</td>\n",
       "    </tr>\n",
       "    <tr>\n",
       "      <th>dog</th>\n",
       "      <td>1143</td>\n",
       "      <td>3110</td>\n",
       "    </tr>\n",
       "  </tbody>\n",
       "</table>\n",
       "</div>"
      ],
      "text/plain": [
       "actual   cat   dog\n",
       "model4            \n",
       "cat      603   144\n",
       "dog     1143  3110"
      ]
     },
     "execution_count": 31,
     "metadata": {},
     "output_type": "execute_result"
    }
   ],
   "source": [
    "#model 4 evaluation\n",
    "# - positive = is dog\n",
    "\n",
    "#create a crosstab of the actual against model3\n",
    "pm4 = pd.crosstab(paws.model4, paws.actual)\n",
    "pm4"
   ]
  },
  {
   "cell_type": "code",
   "execution_count": 32,
   "id": "a351e367",
   "metadata": {},
   "outputs": [
    {
     "name": "stdout",
     "output_type": "stream",
     "text": [
      "Paws model 4 accuracy: 74.26%\n",
      "-----\n",
      "Paws model 4 recall: 95.57%\n",
      "-----\n",
      "Paws model 4 precision: 73.12%\n"
     ]
    }
   ],
   "source": [
    "pm4_acc = (paws.model4 == paws.actual).mean()\n",
    "p_subset7 = paws[paws.model4 == 'dog']\n",
    "pm4_pre = (p_subset7.model4 == p_subset7.actual).mean()\n",
    "p_subset8 = paws[paws.actual == 'dog']\n",
    "pm4_rec = (p_subset8.model4 == p_subset8.actual).mean()\n",
    "\n",
    "print(f'Paws model 4 accuracy: {pm4_acc:.2%}')\n",
    "print('-----')\n",
    "print(f'Paws model 4 recall: {pm4_rec:.2%}')\n",
    "print('-----')\n",
    "print(f'Paws model 4 precision: {pm4_pre:.2%}')"
   ]
  },
  {
   "cell_type": "code",
   "execution_count": 33,
   "id": "cab4f290",
   "metadata": {},
   "outputs": [
    {
     "data": {
      "text/html": [
       "<div>\n",
       "<style scoped>\n",
       "    .dataframe tbody tr th:only-of-type {\n",
       "        vertical-align: middle;\n",
       "    }\n",
       "\n",
       "    .dataframe tbody tr th {\n",
       "        vertical-align: top;\n",
       "    }\n",
       "\n",
       "    .dataframe thead th {\n",
       "        text-align: right;\n",
       "    }\n",
       "</style>\n",
       "<table border=\"1\" class=\"dataframe\">\n",
       "  <thead>\n",
       "    <tr style=\"text-align: right;\">\n",
       "      <th></th>\n",
       "      <th>actual</th>\n",
       "      <th>model1</th>\n",
       "      <th>model2</th>\n",
       "      <th>model3</th>\n",
       "      <th>model4</th>\n",
       "      <th>baseline</th>\n",
       "    </tr>\n",
       "  </thead>\n",
       "  <tbody>\n",
       "    <tr>\n",
       "      <th>0</th>\n",
       "      <td>cat</td>\n",
       "      <td>cat</td>\n",
       "      <td>dog</td>\n",
       "      <td>cat</td>\n",
       "      <td>dog</td>\n",
       "      <td>dog</td>\n",
       "    </tr>\n",
       "    <tr>\n",
       "      <th>1</th>\n",
       "      <td>dog</td>\n",
       "      <td>dog</td>\n",
       "      <td>cat</td>\n",
       "      <td>cat</td>\n",
       "      <td>dog</td>\n",
       "      <td>dog</td>\n",
       "    </tr>\n",
       "    <tr>\n",
       "      <th>2</th>\n",
       "      <td>dog</td>\n",
       "      <td>cat</td>\n",
       "      <td>cat</td>\n",
       "      <td>cat</td>\n",
       "      <td>dog</td>\n",
       "      <td>dog</td>\n",
       "    </tr>\n",
       "    <tr>\n",
       "      <th>3</th>\n",
       "      <td>dog</td>\n",
       "      <td>dog</td>\n",
       "      <td>dog</td>\n",
       "      <td>cat</td>\n",
       "      <td>dog</td>\n",
       "      <td>dog</td>\n",
       "    </tr>\n",
       "    <tr>\n",
       "      <th>4</th>\n",
       "      <td>cat</td>\n",
       "      <td>cat</td>\n",
       "      <td>cat</td>\n",
       "      <td>dog</td>\n",
       "      <td>dog</td>\n",
       "      <td>dog</td>\n",
       "    </tr>\n",
       "  </tbody>\n",
       "</table>\n",
       "</div>"
      ],
      "text/plain": [
       "  actual model1 model2 model3 model4 baseline\n",
       "0    cat    cat    dog    cat    dog      dog\n",
       "1    dog    dog    cat    cat    dog      dog\n",
       "2    dog    cat    cat    cat    dog      dog\n",
       "3    dog    dog    dog    cat    dog      dog\n",
       "4    cat    cat    cat    dog    dog      dog"
      ]
     },
     "execution_count": 33,
     "metadata": {},
     "output_type": "execute_result"
    }
   ],
   "source": [
    "#add a baseline column with the value of 'dog'\n",
    "paws['baseline'] = 'dog'\n",
    "paws.head()"
   ]
  },
  {
   "cell_type": "code",
   "execution_count": 34,
   "id": "8b97e5a8",
   "metadata": {},
   "outputs": [
    {
     "name": "stdout",
     "output_type": "stream",
     "text": [
      "Paws baseline accuracy: 65.08%\n",
      "-----\n",
      "Paws baseline recall: 100.00%\n",
      "-----\n",
      "Paws baseline precision: 65.08%\n"
     ]
    }
   ],
   "source": [
    "p_base_acc = (paws.baseline == paws.actual).mean()\n",
    "p_subset9 = paws[paws.baseline == 'dog']\n",
    "p_base_pre = (p_subset9.baseline == p_subset9.actual).mean()\n",
    "p_subset10 = paws[paws.actual == 'dog']\n",
    "p_base_rec = (p_subset10.baseline == p_subset10.actual).mean()\n",
    "\n",
    "print(f'Paws baseline accuracy: {p_base_acc:.2%}')\n",
    "print('-----')\n",
    "print(f'Paws baseline recall: {p_base_rec:.2%}')\n",
    "print('-----')\n",
    "print(f'Paws baseline precision: {p_base_pre:.2%}')"
   ]
  },
  {
   "cell_type": "code",
   "execution_count": 36,
   "id": "df5022d1",
   "metadata": {},
   "outputs": [
    {
     "name": "stdout",
     "output_type": "stream",
     "text": [
      "Positive = dog\n",
      "=====\n",
      "Paws baseline accuracy: 65.08%\n",
      "Paws model 1 accuracy: 80.74%\n",
      "Paws model 2 accuracy: 63.04%\n",
      "Paws model 3 accuracy: 50.96%\n",
      "Paws model 4 accuracy: 74.26%\n",
      "-----\n",
      "Paws baseline recall: 100.00%\n",
      "Paws model 1 recall: 80.33%\n",
      "Paws model 2 recall: 49.08%\n",
      "Paws model 3 recall: 50.86%\n",
      "Paws model 4 recall: 95.57%\n",
      "-----\n",
      "Paws baseline precision: 65.08%\n",
      "Paws model 1 precision: 89.00%\n",
      "Paws model 2 precision: 89.32%\n",
      "Paws model 3 precision: 65.99%\n",
      "Paws model 4 precision: 73.12%\n"
     ]
    }
   ],
   "source": [
    "#summary of all model evaluations with a prediction of 'dog'\n",
    "print('Positive = dog')\n",
    "print('=====')\n",
    "print(f'Paws baseline accuracy: {p_base_acc:.2%}')\n",
    "print(f'Paws model 1 accuracy: {pm1_acc:.2%}')\n",
    "print(f'Paws model 2 accuracy: {pm2_acc:.2%}')\n",
    "print(f'Paws model 3 accuracy: {pm3_acc:.2%}')\n",
    "print(f'Paws model 4 accuracy: {pm4_acc:.2%}')\n",
    "print('-----')\n",
    "print(f'Paws baseline recall: {p_base_rec:.2%}')\n",
    "print(f'Paws model 1 recall: {pm1_rec:.2%}')\n",
    "print(f'Paws model 2 recall: {pm2_rec:.2%}')\n",
    "print(f'Paws model 3 recall: {pm3_rec:.2%}')\n",
    "print(f'Paws model 4 recall: {pm4_rec:.2%}')\n",
    "print('-----')\n",
    "print(f'Paws baseline precision: {p_base_pre:.2%}')\n",
    "print(f'Paws model 1 precision: {pm1_pre:.2%}')\n",
    "print(f'Paws model 2 precision: {pm2_pre:.2%}')\n",
    "print(f'Paws model 3 precision: {pm3_pre:.2%}')\n",
    "print(f'Paws model 4 precision: {pm4_pre:.2%}')"
   ]
  },
  {
   "cell_type": "code",
   "execution_count": null,
   "id": "2b59deab",
   "metadata": {},
   "outputs": [],
   "source": []
  },
  {
   "cell_type": "markdown",
   "id": "533b0a1f",
   "metadata": {},
   "source": [
    "---"
   ]
  },
  {
   "cell_type": "markdown",
   "id": "d36ab656",
   "metadata": {},
   "source": [
    "#### 4. Follow the links below to read the documentation about each function, then apply those functions to the data from the previous problem.\n",
    "\n",
    "- sklearn.metrics.accuracy_score\n",
    "- sklearn.metrics.precision_score\n",
    "- sklearn.metrics.recall_score\n",
    "- sklearn.metrics.classification_report"
   ]
  },
  {
   "cell_type": "code",
   "execution_count": null,
   "id": "5c9a82df",
   "metadata": {},
   "outputs": [],
   "source": []
  }
 ],
 "metadata": {
  "kernelspec": {
   "display_name": "Python 3 (ipykernel)",
   "language": "python",
   "name": "python3"
  },
  "language_info": {
   "codemirror_mode": {
    "name": "ipython",
    "version": 3
   },
   "file_extension": ".py",
   "mimetype": "text/x-python",
   "name": "python",
   "nbconvert_exporter": "python",
   "pygments_lexer": "ipython3",
   "version": "3.9.7"
  }
 },
 "nbformat": 4,
 "nbformat_minor": 5
}
