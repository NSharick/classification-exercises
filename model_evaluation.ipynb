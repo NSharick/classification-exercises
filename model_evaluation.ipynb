{
 "cells": [
  {
   "cell_type": "markdown",
   "id": "ba59d62b",
   "metadata": {},
   "source": [
    "# Model Evaluation Exercises"
   ]
  },
  {
   "cell_type": "code",
   "execution_count": 8,
   "id": "da119796",
   "metadata": {},
   "outputs": [],
   "source": [
    "import pandas as pd\n",
    "import numpy as np\n",
    "\n",
    "from sklearn.metrics import accuracy_score\n",
    "from sklearn.metrics import precision_score\n",
    "from sklearn.metrics import recall_score\n",
    "from sklearn.metrics import classification_report"
   ]
  },
  {
   "cell_type": "markdown",
   "id": "0c5a9c26",
   "metadata": {},
   "source": [
    "#### 1. Given the following confusion matrix, evaluate (by hand) the model's performance.\n",
    "\n",
    "\n",
    "|               | pred dog   | pred cat   |\n",
    "|:------------  |-----------:|-----------:|\n",
    "| actual dog    |         46 |         7  |\n",
    "| actual cat    |         13 |         34 |\n",
    "\n",
    "- In the context of this problem, what is a false positive?\n",
    "- In the context of this problem, what is a false negative?\n",
    "- How would you describe this model?"
   ]
  },
  {
   "cell_type": "markdown",
   "id": "b8969541",
   "metadata": {},
   "source": [
    "##### False Positive:\n",
    "A false positive would be it predicted a dog but it was actually a cat (count = 13)\n",
    "\n",
    "##### False Negative:\n",
    "A false negative would be that it predicted a cat but it was actuall a dog (count = 7)\n",
    "\n",
    "##### Model Description:\n",
    "Accuracy = (46 + 34) / (46 + 7 + 13 + 34) = 80 / 100 = 0.8\n",
    "\n",
    "Precision = 46 / (46 + 13) = 46 / 59 = 0.78\n",
    "\n",
    "Recall = 46 / (46 + 7) = 46 / 53 = 0.87"
   ]
  },
  {
   "cell_type": "markdown",
   "id": "ab005275",
   "metadata": {},
   "source": [
    "---"
   ]
  },
  {
   "cell_type": "markdown",
   "id": "acdd3041",
   "metadata": {},
   "source": [
    "#### 2. You are working as a datascientist working for Codeup Cody Creator (C3 for short), a rubber-duck manufacturing plant.\n",
    "\n",
    "Unfortunately, some of the rubber ducks that are produced will have defects. Your team has built several models that try to predict those defects, and the data from their predictions can be found here.\n",
    "\n",
    "Use the predictions dataset and pandas to help answer the following questions:\n",
    "\n",
    "- An internal team wants to investigate the cause of the manufacturing defects. They tell you that they want to identify as many of the ducks that have a defect as possible. Which evaluation metric would be appropriate here? Which model would be the best fit for this use case?\n",
    "- Recently several stories in the local news have come out highlighting customers who received a rubber duck with a defect, and portraying C3 in a bad light. The PR team has decided to launch a program that gives customers with a defective duck a vacation to Hawaii. They need you to predict which ducks will have defects, but tell you the really don't want to accidentally give out a vacation package when the duck really doesn't have a defect. Which evaluation metric would be appropriate here? Which model would be the best fit for this use case?"
   ]
  },
  {
   "cell_type": "code",
   "execution_count": 4,
   "id": "29b94159",
   "metadata": {},
   "outputs": [],
   "source": [
    "c3_df = pd.read_csv('c3.csv')"
   ]
  },
  {
   "cell_type": "code",
   "execution_count": 6,
   "id": "0b2a0137",
   "metadata": {},
   "outputs": [
    {
     "data": {
      "text/html": [
       "<div>\n",
       "<style scoped>\n",
       "    .dataframe tbody tr th:only-of-type {\n",
       "        vertical-align: middle;\n",
       "    }\n",
       "\n",
       "    .dataframe tbody tr th {\n",
       "        vertical-align: top;\n",
       "    }\n",
       "\n",
       "    .dataframe thead th {\n",
       "        text-align: right;\n",
       "    }\n",
       "</style>\n",
       "<table border=\"1\" class=\"dataframe\">\n",
       "  <thead>\n",
       "    <tr style=\"text-align: right;\">\n",
       "      <th></th>\n",
       "      <th>actual</th>\n",
       "      <th>model1</th>\n",
       "      <th>model2</th>\n",
       "      <th>model3</th>\n",
       "    </tr>\n",
       "  </thead>\n",
       "  <tbody>\n",
       "    <tr>\n",
       "      <th>0</th>\n",
       "      <td>No Defect</td>\n",
       "      <td>No Defect</td>\n",
       "      <td>Defect</td>\n",
       "      <td>No Defect</td>\n",
       "    </tr>\n",
       "    <tr>\n",
       "      <th>1</th>\n",
       "      <td>No Defect</td>\n",
       "      <td>No Defect</td>\n",
       "      <td>Defect</td>\n",
       "      <td>Defect</td>\n",
       "    </tr>\n",
       "    <tr>\n",
       "      <th>2</th>\n",
       "      <td>No Defect</td>\n",
       "      <td>No Defect</td>\n",
       "      <td>Defect</td>\n",
       "      <td>No Defect</td>\n",
       "    </tr>\n",
       "    <tr>\n",
       "      <th>3</th>\n",
       "      <td>No Defect</td>\n",
       "      <td>Defect</td>\n",
       "      <td>Defect</td>\n",
       "      <td>Defect</td>\n",
       "    </tr>\n",
       "    <tr>\n",
       "      <th>4</th>\n",
       "      <td>No Defect</td>\n",
       "      <td>No Defect</td>\n",
       "      <td>Defect</td>\n",
       "      <td>No Defect</td>\n",
       "    </tr>\n",
       "  </tbody>\n",
       "</table>\n",
       "</div>"
      ],
      "text/plain": [
       "      actual     model1  model2     model3\n",
       "0  No Defect  No Defect  Defect  No Defect\n",
       "1  No Defect  No Defect  Defect     Defect\n",
       "2  No Defect  No Defect  Defect  No Defect\n",
       "3  No Defect     Defect  Defect     Defect\n",
       "4  No Defect  No Defect  Defect  No Defect"
      ]
     },
     "execution_count": 6,
     "metadata": {},
     "output_type": "execute_result"
    }
   ],
   "source": [
    "c3_df.head()"
   ]
  },
  {
   "cell_type": "code",
   "execution_count": 22,
   "id": "74bc1a46",
   "metadata": {},
   "outputs": [
    {
     "data": {
      "text/plain": [
       "No Defect    184\n",
       "Defect        16\n",
       "Name: actual, dtype: int64"
      ]
     },
     "execution_count": 22,
     "metadata": {},
     "output_type": "execute_result"
    }
   ],
   "source": [
    "c3_df.actual.value_counts()"
   ]
  },
  {
   "cell_type": "code",
   "execution_count": 7,
   "id": "bee9a052",
   "metadata": {},
   "outputs": [
    {
     "data": {
      "text/html": [
       "<div>\n",
       "<style scoped>\n",
       "    .dataframe tbody tr th:only-of-type {\n",
       "        vertical-align: middle;\n",
       "    }\n",
       "\n",
       "    .dataframe tbody tr th {\n",
       "        vertical-align: top;\n",
       "    }\n",
       "\n",
       "    .dataframe thead th {\n",
       "        text-align: right;\n",
       "    }\n",
       "</style>\n",
       "<table border=\"1\" class=\"dataframe\">\n",
       "  <thead>\n",
       "    <tr style=\"text-align: right;\">\n",
       "      <th>actual</th>\n",
       "      <th>Defect</th>\n",
       "      <th>No Defect</th>\n",
       "    </tr>\n",
       "    <tr>\n",
       "      <th>model1</th>\n",
       "      <th></th>\n",
       "      <th></th>\n",
       "    </tr>\n",
       "  </thead>\n",
       "  <tbody>\n",
       "    <tr>\n",
       "      <th>Defect</th>\n",
       "      <td>8</td>\n",
       "      <td>2</td>\n",
       "    </tr>\n",
       "    <tr>\n",
       "      <th>No Defect</th>\n",
       "      <td>8</td>\n",
       "      <td>182</td>\n",
       "    </tr>\n",
       "  </tbody>\n",
       "</table>\n",
       "</div>"
      ],
      "text/plain": [
       "actual     Defect  No Defect\n",
       "model1                      \n",
       "Defect          8          2\n",
       "No Defect       8        182"
      ]
     },
     "execution_count": 7,
     "metadata": {},
     "output_type": "execute_result"
    }
   ],
   "source": [
    "#model 1 evaluation\n",
    "# - positive = has a defect\n",
    "\n",
    "#create a crosstab of the actual against model1\n",
    "m1 = pd.crosstab(c3_df.model1, c3_df.actual)\n",
    "m1"
   ]
  },
  {
   "cell_type": "code",
   "execution_count": 12,
   "id": "e8e7cf12",
   "metadata": {},
   "outputs": [
    {
     "name": "stdout",
     "output_type": "stream",
     "text": [
      "model 1 accuracy: 95.00%\n",
      "-----\n",
      "model 1 recall: 50.00%\n",
      "-----\n",
      "model 1 precision: 80.00%\n"
     ]
    }
   ],
   "source": [
    "m1_acc = (c3_df.model1 == c3_df.actual).mean()\n",
    "subset1 = c3_df[c3_df.model1 == 'Defect']\n",
    "m1_pre = (subset1.model1 == subset1.actual).mean()\n",
    "subset2 = c3_df[c3_df.actual == 'Defect']\n",
    "m1_rec = (subset2.model1 == subset2.actual).mean()\n",
    "\n",
    "print(f'model 1 accuracy: {m1_acc:.2%}')\n",
    "print('-----')\n",
    "print(f'model 1 recall: {m1_rec:.2%}')\n",
    "print('-----')\n",
    "print(f'model 1 precision: {m1_pre:.2%}')"
   ]
  },
  {
   "cell_type": "code",
   "execution_count": 13,
   "id": "d65401c0",
   "metadata": {},
   "outputs": [
    {
     "data": {
      "text/html": [
       "<div>\n",
       "<style scoped>\n",
       "    .dataframe tbody tr th:only-of-type {\n",
       "        vertical-align: middle;\n",
       "    }\n",
       "\n",
       "    .dataframe tbody tr th {\n",
       "        vertical-align: top;\n",
       "    }\n",
       "\n",
       "    .dataframe thead th {\n",
       "        text-align: right;\n",
       "    }\n",
       "</style>\n",
       "<table border=\"1\" class=\"dataframe\">\n",
       "  <thead>\n",
       "    <tr style=\"text-align: right;\">\n",
       "      <th>actual</th>\n",
       "      <th>Defect</th>\n",
       "      <th>No Defect</th>\n",
       "    </tr>\n",
       "    <tr>\n",
       "      <th>model2</th>\n",
       "      <th></th>\n",
       "      <th></th>\n",
       "    </tr>\n",
       "  </thead>\n",
       "  <tbody>\n",
       "    <tr>\n",
       "      <th>Defect</th>\n",
       "      <td>9</td>\n",
       "      <td>81</td>\n",
       "    </tr>\n",
       "    <tr>\n",
       "      <th>No Defect</th>\n",
       "      <td>7</td>\n",
       "      <td>103</td>\n",
       "    </tr>\n",
       "  </tbody>\n",
       "</table>\n",
       "</div>"
      ],
      "text/plain": [
       "actual     Defect  No Defect\n",
       "model2                      \n",
       "Defect          9         81\n",
       "No Defect       7        103"
      ]
     },
     "execution_count": 13,
     "metadata": {},
     "output_type": "execute_result"
    }
   ],
   "source": [
    "#model 2 evaluation\n",
    "# - positive = has a defect\n",
    "\n",
    "#create a crosstab of the actual against model2\n",
    "m2 = pd.crosstab(c3_df.model2, c3_df.actual)\n",
    "m2"
   ]
  },
  {
   "cell_type": "code",
   "execution_count": 14,
   "id": "c4de0d37",
   "metadata": {},
   "outputs": [
    {
     "name": "stdout",
     "output_type": "stream",
     "text": [
      "model 2 accuracy: 56.00%\n",
      "-----\n",
      "model 2 recall: 56.25%\n",
      "-----\n",
      "model 2 precision: 10.00%\n"
     ]
    }
   ],
   "source": [
    "m2_acc = (c3_df.model2 == c3_df.actual).mean()\n",
    "subset3 = c3_df[c3_df.model2 == 'Defect']\n",
    "m2_pre = (subset3.model2 == subset3.actual).mean()\n",
    "subset4 = c3_df[c3_df.actual == 'Defect']\n",
    "m2_rec = (subset4.model2 == subset4.actual).mean()\n",
    "\n",
    "print(f'model 2 accuracy: {m2_acc:.2%}')\n",
    "print('-----')\n",
    "print(f'model 2 recall: {m2_rec:.2%}')\n",
    "print('-----')\n",
    "print(f'model 2 precision: {m2_pre:.2%}')"
   ]
  },
  {
   "cell_type": "code",
   "execution_count": 15,
   "id": "b059cf18",
   "metadata": {},
   "outputs": [
    {
     "data": {
      "text/html": [
       "<div>\n",
       "<style scoped>\n",
       "    .dataframe tbody tr th:only-of-type {\n",
       "        vertical-align: middle;\n",
       "    }\n",
       "\n",
       "    .dataframe tbody tr th {\n",
       "        vertical-align: top;\n",
       "    }\n",
       "\n",
       "    .dataframe thead th {\n",
       "        text-align: right;\n",
       "    }\n",
       "</style>\n",
       "<table border=\"1\" class=\"dataframe\">\n",
       "  <thead>\n",
       "    <tr style=\"text-align: right;\">\n",
       "      <th>actual</th>\n",
       "      <th>Defect</th>\n",
       "      <th>No Defect</th>\n",
       "    </tr>\n",
       "    <tr>\n",
       "      <th>model3</th>\n",
       "      <th></th>\n",
       "      <th></th>\n",
       "    </tr>\n",
       "  </thead>\n",
       "  <tbody>\n",
       "    <tr>\n",
       "      <th>Defect</th>\n",
       "      <td>13</td>\n",
       "      <td>86</td>\n",
       "    </tr>\n",
       "    <tr>\n",
       "      <th>No Defect</th>\n",
       "      <td>3</td>\n",
       "      <td>98</td>\n",
       "    </tr>\n",
       "  </tbody>\n",
       "</table>\n",
       "</div>"
      ],
      "text/plain": [
       "actual     Defect  No Defect\n",
       "model3                      \n",
       "Defect         13         86\n",
       "No Defect       3         98"
      ]
     },
     "execution_count": 15,
     "metadata": {},
     "output_type": "execute_result"
    }
   ],
   "source": [
    "#model 3 evaluation\n",
    "# - positive = has a defect\n",
    "\n",
    "#create a crosstab of the actual against model3\n",
    "m3 = pd.crosstab(c3_df.model3, c3_df.actual)\n",
    "m3"
   ]
  },
  {
   "cell_type": "code",
   "execution_count": 16,
   "id": "700b8f84",
   "metadata": {},
   "outputs": [
    {
     "name": "stdout",
     "output_type": "stream",
     "text": [
      "model 3 accuracy: 55.50%\n",
      "-----\n",
      "model 3 recall: 81.25%\n",
      "-----\n",
      "model 3 precision: 13.13%\n"
     ]
    }
   ],
   "source": [
    "m3_acc = (c3_df.model3 == c3_df.actual).mean()\n",
    "subset5 = c3_df[c3_df.model3 == 'Defect']\n",
    "m3_pre = (subset5.model3 == subset5.actual).mean()\n",
    "subset6 = c3_df[c3_df.actual == 'Defect']\n",
    "m3_rec = (subset6.model3 == subset6.actual).mean()\n",
    "\n",
    "print(f'model 3 accuracy: {m3_acc:.2%}')\n",
    "print('-----')\n",
    "print(f'model 3 recall: {m3_rec:.2%}')\n",
    "print('-----')\n",
    "print(f'model 3 precision: {m3_pre:.2%}')"
   ]
  },
  {
   "cell_type": "code",
   "execution_count": 18,
   "id": "107f951a",
   "metadata": {},
   "outputs": [
    {
     "data": {
      "text/html": [
       "<div>\n",
       "<style scoped>\n",
       "    .dataframe tbody tr th:only-of-type {\n",
       "        vertical-align: middle;\n",
       "    }\n",
       "\n",
       "    .dataframe tbody tr th {\n",
       "        vertical-align: top;\n",
       "    }\n",
       "\n",
       "    .dataframe thead th {\n",
       "        text-align: right;\n",
       "    }\n",
       "</style>\n",
       "<table border=\"1\" class=\"dataframe\">\n",
       "  <thead>\n",
       "    <tr style=\"text-align: right;\">\n",
       "      <th></th>\n",
       "      <th>actual</th>\n",
       "      <th>model1</th>\n",
       "      <th>model2</th>\n",
       "      <th>model3</th>\n",
       "      <th>baseline</th>\n",
       "    </tr>\n",
       "  </thead>\n",
       "  <tbody>\n",
       "    <tr>\n",
       "      <th>0</th>\n",
       "      <td>No Defect</td>\n",
       "      <td>No Defect</td>\n",
       "      <td>Defect</td>\n",
       "      <td>No Defect</td>\n",
       "      <td>No Defect</td>\n",
       "    </tr>\n",
       "    <tr>\n",
       "      <th>1</th>\n",
       "      <td>No Defect</td>\n",
       "      <td>No Defect</td>\n",
       "      <td>Defect</td>\n",
       "      <td>Defect</td>\n",
       "      <td>No Defect</td>\n",
       "    </tr>\n",
       "    <tr>\n",
       "      <th>2</th>\n",
       "      <td>No Defect</td>\n",
       "      <td>No Defect</td>\n",
       "      <td>Defect</td>\n",
       "      <td>No Defect</td>\n",
       "      <td>No Defect</td>\n",
       "    </tr>\n",
       "    <tr>\n",
       "      <th>3</th>\n",
       "      <td>No Defect</td>\n",
       "      <td>Defect</td>\n",
       "      <td>Defect</td>\n",
       "      <td>Defect</td>\n",
       "      <td>No Defect</td>\n",
       "    </tr>\n",
       "    <tr>\n",
       "      <th>4</th>\n",
       "      <td>No Defect</td>\n",
       "      <td>No Defect</td>\n",
       "      <td>Defect</td>\n",
       "      <td>No Defect</td>\n",
       "      <td>No Defect</td>\n",
       "    </tr>\n",
       "  </tbody>\n",
       "</table>\n",
       "</div>"
      ],
      "text/plain": [
       "      actual     model1  model2     model3   baseline\n",
       "0  No Defect  No Defect  Defect  No Defect  No Defect\n",
       "1  No Defect  No Defect  Defect     Defect  No Defect\n",
       "2  No Defect  No Defect  Defect  No Defect  No Defect\n",
       "3  No Defect     Defect  Defect     Defect  No Defect\n",
       "4  No Defect  No Defect  Defect  No Defect  No Defect"
      ]
     },
     "execution_count": 18,
     "metadata": {},
     "output_type": "execute_result"
    }
   ],
   "source": [
    "#add a baseline column to df to make comparisons\n",
    "#baseline value = \"No Defect\"\n",
    "c3_df['baseline'] = 'No Defect'\n",
    "c3_df.head()"
   ]
  },
  {
   "cell_type": "code",
   "execution_count": 19,
   "id": "39f801a2",
   "metadata": {},
   "outputs": [
    {
     "name": "stdout",
     "output_type": "stream",
     "text": [
      "baseline accuracy: 92.00%\n",
      "-----\n",
      "baseline recall: 0.00%\n",
      "-----\n",
      "baseline precision: nan%\n"
     ]
    }
   ],
   "source": [
    "base_acc = (c3_df.baseline == c3_df.actual).mean()\n",
    "subset7 = c3_df[c3_df.baseline == 'Defect']\n",
    "base_pre = (subset7.baseline == subset7.actual).mean()\n",
    "subset8 = c3_df[c3_df.actual == 'Defect']\n",
    "base_rec = (subset8.baseline == subset8.actual).mean()\n",
    "\n",
    "print(f'baseline accuracy: {base_acc:.2%}')\n",
    "print('-----')\n",
    "print(f'baseline recall: {base_rec:.2%}')\n",
    "print('-----')\n",
    "print(f'baseline precision: {base_pre:.2%}')"
   ]
  },
  {
   "cell_type": "code",
   "execution_count": 20,
   "id": "b25d9cf9",
   "metadata": {},
   "outputs": [
    {
     "name": "stdout",
     "output_type": "stream",
     "text": [
      "baseline accuracy: 92.00%\n",
      "model 1 accuracy: 95.00%\n",
      "model 2 accuracy: 56.00%\n",
      "model 3 accuracy: 55.50%\n",
      "-----\n",
      "baseline recall: 0.00%\n",
      "model 1 recall: 50.00%\n",
      "model 2 recall: 56.25%\n",
      "model 3 recall: 81.25%\n",
      "-----\n",
      "baseline precision: nan%\n",
      "model 1 precision: 80.00%\n",
      "model 2 precision: 10.00%\n",
      "model 3 precision: 13.13%\n"
     ]
    }
   ],
   "source": [
    "#Summary for all three models together\n",
    "#baseline = No Defect\n",
    "print(f'baseline accuracy: {base_acc:.2%}')\n",
    "print(f'model 1 accuracy: {m1_acc:.2%}')\n",
    "print(f'model 2 accuracy: {m2_acc:.2%}')\n",
    "print(f'model 3 accuracy: {m3_acc:.2%}')\n",
    "print('-----')\n",
    "print(f'baseline recall: {base_rec:.2%}')\n",
    "print(f'model 1 recall: {m1_rec:.2%}')\n",
    "print(f'model 2 recall: {m2_rec:.2%}')\n",
    "print(f'model 3 recall: {m3_rec:.2%}')\n",
    "print('-----')\n",
    "print(f'baseline precision: {base_pre:.2%}')\n",
    "print(f'model 1 precision: {m1_pre:.2%}')\n",
    "print(f'model 2 precision: {m2_pre:.2%}')\n",
    "print(f'model 3 precision: {m3_pre:.2%}')"
   ]
  },
  {
   "cell_type": "markdown",
   "id": "8c6f9d09",
   "metadata": {},
   "source": [
    "##### Which model would be the best to detect the most defects possible?\n",
    "- Model 3 has the highest recall value meaning it would have the least chance of making a false negative prediction and would catch the most ducks with a defect\n",
    "\n",
    "##### Which model would have the least chance of a false positive and thus giving a free vacation to someone with a duck that does not have a defect\n",
    "- Model 1 has the highest precision value meaning it would have the least chance of making a false positive prediction"
   ]
  },
  {
   "cell_type": "markdown",
   "id": "6211851a",
   "metadata": {},
   "source": [
    "---"
   ]
  },
  {
   "cell_type": "markdown",
   "id": "73a3dc6c",
   "metadata": {},
   "source": [
    "#### 3. You are working as a data scientist for Gives You Paws ™, a subscription based service that shows you cute pictures of dogs or cats (or both for an additional fee).\n",
    "\n",
    "At Gives You Paws, anyone can upload pictures of their cats or dogs. The photos are then put through a two step process. First an automated algorithm tags pictures as either a cat or a dog (Phase I). Next, the photos that have been initially identified are put through another round of review, possibly with some human oversight, before being presented to the users (Phase II).\n",
    "\n",
    "Several models have already been developed with the data, and you can find their results here.\n",
    "\n",
    "Given this dataset, use pandas to create a baseline model (i.e. a model that just predicts the most common class) and answer the following questions:\n",
    "\n",
    "- In terms of accuracy, how do the various models compare to the baseline model? Are any of the models better than the baseline?\n",
    "- Suppose you are working on a team that solely deals with dog pictures. Which of these models would you recomend for Phase I? For Phase II?\n",
    "- Suppose you are working on a team that solely deals with cat pictures. Which of these models would you recomend for - Phase I? For Phase II?"
   ]
  },
  {
   "cell_type": "code",
   "execution_count": 2,
   "id": "982db8c4",
   "metadata": {},
   "outputs": [
    {
     "data": {
      "text/html": [
       "<div>\n",
       "<style scoped>\n",
       "    .dataframe tbody tr th:only-of-type {\n",
       "        vertical-align: middle;\n",
       "    }\n",
       "\n",
       "    .dataframe tbody tr th {\n",
       "        vertical-align: top;\n",
       "    }\n",
       "\n",
       "    .dataframe thead th {\n",
       "        text-align: right;\n",
       "    }\n",
       "</style>\n",
       "<table border=\"1\" class=\"dataframe\">\n",
       "  <thead>\n",
       "    <tr style=\"text-align: right;\">\n",
       "      <th></th>\n",
       "      <th>actual</th>\n",
       "      <th>model1</th>\n",
       "      <th>model2</th>\n",
       "      <th>model3</th>\n",
       "      <th>model4</th>\n",
       "    </tr>\n",
       "  </thead>\n",
       "  <tbody>\n",
       "    <tr>\n",
       "      <th>0</th>\n",
       "      <td>cat</td>\n",
       "      <td>cat</td>\n",
       "      <td>dog</td>\n",
       "      <td>cat</td>\n",
       "      <td>dog</td>\n",
       "    </tr>\n",
       "    <tr>\n",
       "      <th>1</th>\n",
       "      <td>dog</td>\n",
       "      <td>dog</td>\n",
       "      <td>cat</td>\n",
       "      <td>cat</td>\n",
       "      <td>dog</td>\n",
       "    </tr>\n",
       "    <tr>\n",
       "      <th>2</th>\n",
       "      <td>dog</td>\n",
       "      <td>cat</td>\n",
       "      <td>cat</td>\n",
       "      <td>cat</td>\n",
       "      <td>dog</td>\n",
       "    </tr>\n",
       "    <tr>\n",
       "      <th>3</th>\n",
       "      <td>dog</td>\n",
       "      <td>dog</td>\n",
       "      <td>dog</td>\n",
       "      <td>cat</td>\n",
       "      <td>dog</td>\n",
       "    </tr>\n",
       "    <tr>\n",
       "      <th>4</th>\n",
       "      <td>cat</td>\n",
       "      <td>cat</td>\n",
       "      <td>cat</td>\n",
       "      <td>dog</td>\n",
       "      <td>dog</td>\n",
       "    </tr>\n",
       "  </tbody>\n",
       "</table>\n",
       "</div>"
      ],
      "text/plain": [
       "  actual model1 model2 model3 model4\n",
       "0    cat    cat    dog    cat    dog\n",
       "1    dog    dog    cat    cat    dog\n",
       "2    dog    cat    cat    cat    dog\n",
       "3    dog    dog    dog    cat    dog\n",
       "4    cat    cat    cat    dog    dog"
      ]
     },
     "execution_count": 2,
     "metadata": {},
     "output_type": "execute_result"
    }
   ],
   "source": [
    "paws = pd.read_csv('gives_you_paws.csv')\n",
    "paws.head()"
   ]
  },
  {
   "cell_type": "code",
   "execution_count": 24,
   "id": "4d36187e",
   "metadata": {},
   "outputs": [
    {
     "data": {
      "text/plain": [
       "dog    3254\n",
       "cat    1746\n",
       "Name: actual, dtype: int64"
      ]
     },
     "execution_count": 24,
     "metadata": {},
     "output_type": "execute_result"
    }
   ],
   "source": [
    "paws.actual.value_counts()"
   ]
  },
  {
   "cell_type": "code",
   "execution_count": 25,
   "id": "229982b5",
   "metadata": {},
   "outputs": [
    {
     "data": {
      "text/html": [
       "<div>\n",
       "<style scoped>\n",
       "    .dataframe tbody tr th:only-of-type {\n",
       "        vertical-align: middle;\n",
       "    }\n",
       "\n",
       "    .dataframe tbody tr th {\n",
       "        vertical-align: top;\n",
       "    }\n",
       "\n",
       "    .dataframe thead th {\n",
       "        text-align: right;\n",
       "    }\n",
       "</style>\n",
       "<table border=\"1\" class=\"dataframe\">\n",
       "  <thead>\n",
       "    <tr style=\"text-align: right;\">\n",
       "      <th>actual</th>\n",
       "      <th>cat</th>\n",
       "      <th>dog</th>\n",
       "    </tr>\n",
       "    <tr>\n",
       "      <th>model1</th>\n",
       "      <th></th>\n",
       "      <th></th>\n",
       "    </tr>\n",
       "  </thead>\n",
       "  <tbody>\n",
       "    <tr>\n",
       "      <th>cat</th>\n",
       "      <td>1423</td>\n",
       "      <td>640</td>\n",
       "    </tr>\n",
       "    <tr>\n",
       "      <th>dog</th>\n",
       "      <td>323</td>\n",
       "      <td>2614</td>\n",
       "    </tr>\n",
       "  </tbody>\n",
       "</table>\n",
       "</div>"
      ],
      "text/plain": [
       "actual   cat   dog\n",
       "model1            \n",
       "cat     1423   640\n",
       "dog      323  2614"
      ]
     },
     "execution_count": 25,
     "metadata": {},
     "output_type": "execute_result"
    }
   ],
   "source": [
    "#model 1 evaluation\n",
    "# - positive = is dog\n",
    "\n",
    "#create a crosstab of the actual against model1\n",
    "pm1 = pd.crosstab(paws.model1, paws.actual)\n",
    "pm1"
   ]
  },
  {
   "cell_type": "code",
   "execution_count": 26,
   "id": "b0373b41",
   "metadata": {},
   "outputs": [
    {
     "name": "stdout",
     "output_type": "stream",
     "text": [
      "Paws model 1 accuracy: 80.74%\n",
      "-----\n",
      "Paws model 1 recall: 80.33%\n",
      "-----\n",
      "Paws model 1 precision: 89.00%\n"
     ]
    }
   ],
   "source": [
    "pm1_acc = (paws.model1 == paws.actual).mean()\n",
    "p_subset1 = paws[paws.model1 == 'dog']\n",
    "pm1_pre = (p_subset1.model1 == p_subset1.actual).mean()\n",
    "p_subset2 = paws[paws.actual == 'dog']\n",
    "pm1_rec = (p_subset2.model1 == p_subset2.actual).mean()\n",
    "\n",
    "print(f'Paws model 1 accuracy: {pm1_acc:.2%}')\n",
    "print('-----')\n",
    "print(f'Paws model 1 recall: {pm1_rec:.2%}')\n",
    "print('-----')\n",
    "print(f'Paws model 1 precision: {pm1_pre:.2%}')"
   ]
  },
  {
   "cell_type": "code",
   "execution_count": 27,
   "id": "145306aa",
   "metadata": {},
   "outputs": [
    {
     "data": {
      "text/html": [
       "<div>\n",
       "<style scoped>\n",
       "    .dataframe tbody tr th:only-of-type {\n",
       "        vertical-align: middle;\n",
       "    }\n",
       "\n",
       "    .dataframe tbody tr th {\n",
       "        vertical-align: top;\n",
       "    }\n",
       "\n",
       "    .dataframe thead th {\n",
       "        text-align: right;\n",
       "    }\n",
       "</style>\n",
       "<table border=\"1\" class=\"dataframe\">\n",
       "  <thead>\n",
       "    <tr style=\"text-align: right;\">\n",
       "      <th>actual</th>\n",
       "      <th>cat</th>\n",
       "      <th>dog</th>\n",
       "    </tr>\n",
       "    <tr>\n",
       "      <th>model2</th>\n",
       "      <th></th>\n",
       "      <th></th>\n",
       "    </tr>\n",
       "  </thead>\n",
       "  <tbody>\n",
       "    <tr>\n",
       "      <th>cat</th>\n",
       "      <td>1555</td>\n",
       "      <td>1657</td>\n",
       "    </tr>\n",
       "    <tr>\n",
       "      <th>dog</th>\n",
       "      <td>191</td>\n",
       "      <td>1597</td>\n",
       "    </tr>\n",
       "  </tbody>\n",
       "</table>\n",
       "</div>"
      ],
      "text/plain": [
       "actual   cat   dog\n",
       "model2            \n",
       "cat     1555  1657\n",
       "dog      191  1597"
      ]
     },
     "execution_count": 27,
     "metadata": {},
     "output_type": "execute_result"
    }
   ],
   "source": [
    "#model 2 evaluation\n",
    "# - positive = is dog\n",
    "\n",
    "#create a crosstab of the actual against model2\n",
    "pm2 = pd.crosstab(paws.model2, paws.actual)\n",
    "pm2"
   ]
  },
  {
   "cell_type": "code",
   "execution_count": 28,
   "id": "21aef1ed",
   "metadata": {},
   "outputs": [
    {
     "name": "stdout",
     "output_type": "stream",
     "text": [
      "Paws model 2 accuracy: 63.04%\n",
      "-----\n",
      "Paws model 2 recall: 49.08%\n",
      "-----\n",
      "Paws model 2 precision: 89.32%\n"
     ]
    }
   ],
   "source": [
    "pm2_acc = (paws.model2 == paws.actual).mean()\n",
    "p_subset3 = paws[paws.model2 == 'dog']\n",
    "pm2_pre = (p_subset3.model2 == p_subset3.actual).mean()\n",
    "p_subset4 = paws[paws.actual == 'dog']\n",
    "pm2_rec = (p_subset4.model2 == p_subset4.actual).mean()\n",
    "\n",
    "print(f'Paws model 2 accuracy: {pm2_acc:.2%}')\n",
    "print('-----')\n",
    "print(f'Paws model 2 recall: {pm2_rec:.2%}')\n",
    "print('-----')\n",
    "print(f'Paws model 2 precision: {pm2_pre:.2%}')"
   ]
  },
  {
   "cell_type": "code",
   "execution_count": 29,
   "id": "1c64189a",
   "metadata": {},
   "outputs": [
    {
     "data": {
      "text/html": [
       "<div>\n",
       "<style scoped>\n",
       "    .dataframe tbody tr th:only-of-type {\n",
       "        vertical-align: middle;\n",
       "    }\n",
       "\n",
       "    .dataframe tbody tr th {\n",
       "        vertical-align: top;\n",
       "    }\n",
       "\n",
       "    .dataframe thead th {\n",
       "        text-align: right;\n",
       "    }\n",
       "</style>\n",
       "<table border=\"1\" class=\"dataframe\">\n",
       "  <thead>\n",
       "    <tr style=\"text-align: right;\">\n",
       "      <th>actual</th>\n",
       "      <th>cat</th>\n",
       "      <th>dog</th>\n",
       "    </tr>\n",
       "    <tr>\n",
       "      <th>model3</th>\n",
       "      <th></th>\n",
       "      <th></th>\n",
       "    </tr>\n",
       "  </thead>\n",
       "  <tbody>\n",
       "    <tr>\n",
       "      <th>cat</th>\n",
       "      <td>893</td>\n",
       "      <td>1599</td>\n",
       "    </tr>\n",
       "    <tr>\n",
       "      <th>dog</th>\n",
       "      <td>853</td>\n",
       "      <td>1655</td>\n",
       "    </tr>\n",
       "  </tbody>\n",
       "</table>\n",
       "</div>"
      ],
      "text/plain": [
       "actual  cat   dog\n",
       "model3           \n",
       "cat     893  1599\n",
       "dog     853  1655"
      ]
     },
     "execution_count": 29,
     "metadata": {},
     "output_type": "execute_result"
    }
   ],
   "source": [
    "#model 3 evaluation\n",
    "# - positive = is dog\n",
    "\n",
    "#create a crosstab of the actual against model3\n",
    "pm3 = pd.crosstab(paws.model3, paws.actual)\n",
    "pm3"
   ]
  },
  {
   "cell_type": "code",
   "execution_count": 30,
   "id": "04ae2ab8",
   "metadata": {},
   "outputs": [
    {
     "name": "stdout",
     "output_type": "stream",
     "text": [
      "Paws model 3 accuracy: 50.96%\n",
      "-----\n",
      "Paws model 3 recall: 50.86%\n",
      "-----\n",
      "Paws model 3 precision: 65.99%\n"
     ]
    }
   ],
   "source": [
    "pm3_acc = (paws.model3 == paws.actual).mean()\n",
    "p_subset5 = paws[paws.model3 == 'dog']\n",
    "pm3_pre = (p_subset5.model3 == p_subset5.actual).mean()\n",
    "p_subset6 = paws[paws.actual == 'dog']\n",
    "pm3_rec = (p_subset6.model3 == p_subset6.actual).mean()\n",
    "\n",
    "print(f'Paws model 3 accuracy: {pm3_acc:.2%}')\n",
    "print('-----')\n",
    "print(f'Paws model 3 recall: {pm3_rec:.2%}')\n",
    "print('-----')\n",
    "print(f'Paws model 3 precision: {pm3_pre:.2%}')"
   ]
  },
  {
   "cell_type": "code",
   "execution_count": 31,
   "id": "7e0dfa23",
   "metadata": {},
   "outputs": [
    {
     "data": {
      "text/html": [
       "<div>\n",
       "<style scoped>\n",
       "    .dataframe tbody tr th:only-of-type {\n",
       "        vertical-align: middle;\n",
       "    }\n",
       "\n",
       "    .dataframe tbody tr th {\n",
       "        vertical-align: top;\n",
       "    }\n",
       "\n",
       "    .dataframe thead th {\n",
       "        text-align: right;\n",
       "    }\n",
       "</style>\n",
       "<table border=\"1\" class=\"dataframe\">\n",
       "  <thead>\n",
       "    <tr style=\"text-align: right;\">\n",
       "      <th>actual</th>\n",
       "      <th>cat</th>\n",
       "      <th>dog</th>\n",
       "    </tr>\n",
       "    <tr>\n",
       "      <th>model4</th>\n",
       "      <th></th>\n",
       "      <th></th>\n",
       "    </tr>\n",
       "  </thead>\n",
       "  <tbody>\n",
       "    <tr>\n",
       "      <th>cat</th>\n",
       "      <td>603</td>\n",
       "      <td>144</td>\n",
       "    </tr>\n",
       "    <tr>\n",
       "      <th>dog</th>\n",
       "      <td>1143</td>\n",
       "      <td>3110</td>\n",
       "    </tr>\n",
       "  </tbody>\n",
       "</table>\n",
       "</div>"
      ],
      "text/plain": [
       "actual   cat   dog\n",
       "model4            \n",
       "cat      603   144\n",
       "dog     1143  3110"
      ]
     },
     "execution_count": 31,
     "metadata": {},
     "output_type": "execute_result"
    }
   ],
   "source": [
    "#model 4 evaluation\n",
    "# - positive = is dog\n",
    "\n",
    "#create a crosstab of the actual against model3\n",
    "pm4 = pd.crosstab(paws.model4, paws.actual)\n",
    "pm4"
   ]
  },
  {
   "cell_type": "code",
   "execution_count": 32,
   "id": "6542fca4",
   "metadata": {},
   "outputs": [
    {
     "name": "stdout",
     "output_type": "stream",
     "text": [
      "Paws model 4 accuracy: 74.26%\n",
      "-----\n",
      "Paws model 4 recall: 95.57%\n",
      "-----\n",
      "Paws model 4 precision: 73.12%\n"
     ]
    }
   ],
   "source": [
    "pm4_acc = (paws.model4 == paws.actual).mean()\n",
    "p_subset7 = paws[paws.model4 == 'dog']\n",
    "pm4_pre = (p_subset7.model4 == p_subset7.actual).mean()\n",
    "p_subset8 = paws[paws.actual == 'dog']\n",
    "pm4_rec = (p_subset8.model4 == p_subset8.actual).mean()\n",
    "\n",
    "print(f'Paws model 4 accuracy: {pm4_acc:.2%}')\n",
    "print('-----')\n",
    "print(f'Paws model 4 recall: {pm4_rec:.2%}')\n",
    "print('-----')\n",
    "print(f'Paws model 4 precision: {pm4_pre:.2%}')"
   ]
  },
  {
   "cell_type": "code",
   "execution_count": 5,
   "id": "7376d3af",
   "metadata": {},
   "outputs": [
    {
     "data": {
      "text/html": [
       "<div>\n",
       "<style scoped>\n",
       "    .dataframe tbody tr th:only-of-type {\n",
       "        vertical-align: middle;\n",
       "    }\n",
       "\n",
       "    .dataframe tbody tr th {\n",
       "        vertical-align: top;\n",
       "    }\n",
       "\n",
       "    .dataframe thead th {\n",
       "        text-align: right;\n",
       "    }\n",
       "</style>\n",
       "<table border=\"1\" class=\"dataframe\">\n",
       "  <thead>\n",
       "    <tr style=\"text-align: right;\">\n",
       "      <th></th>\n",
       "      <th>actual</th>\n",
       "      <th>model1</th>\n",
       "      <th>model2</th>\n",
       "      <th>model3</th>\n",
       "      <th>model4</th>\n",
       "      <th>baseline</th>\n",
       "    </tr>\n",
       "  </thead>\n",
       "  <tbody>\n",
       "    <tr>\n",
       "      <th>0</th>\n",
       "      <td>cat</td>\n",
       "      <td>cat</td>\n",
       "      <td>dog</td>\n",
       "      <td>cat</td>\n",
       "      <td>dog</td>\n",
       "      <td>dog</td>\n",
       "    </tr>\n",
       "    <tr>\n",
       "      <th>1</th>\n",
       "      <td>dog</td>\n",
       "      <td>dog</td>\n",
       "      <td>cat</td>\n",
       "      <td>cat</td>\n",
       "      <td>dog</td>\n",
       "      <td>dog</td>\n",
       "    </tr>\n",
       "    <tr>\n",
       "      <th>2</th>\n",
       "      <td>dog</td>\n",
       "      <td>cat</td>\n",
       "      <td>cat</td>\n",
       "      <td>cat</td>\n",
       "      <td>dog</td>\n",
       "      <td>dog</td>\n",
       "    </tr>\n",
       "    <tr>\n",
       "      <th>3</th>\n",
       "      <td>dog</td>\n",
       "      <td>dog</td>\n",
       "      <td>dog</td>\n",
       "      <td>cat</td>\n",
       "      <td>dog</td>\n",
       "      <td>dog</td>\n",
       "    </tr>\n",
       "    <tr>\n",
       "      <th>4</th>\n",
       "      <td>cat</td>\n",
       "      <td>cat</td>\n",
       "      <td>cat</td>\n",
       "      <td>dog</td>\n",
       "      <td>dog</td>\n",
       "      <td>dog</td>\n",
       "    </tr>\n",
       "  </tbody>\n",
       "</table>\n",
       "</div>"
      ],
      "text/plain": [
       "  actual model1 model2 model3 model4 baseline\n",
       "0    cat    cat    dog    cat    dog      dog\n",
       "1    dog    dog    cat    cat    dog      dog\n",
       "2    dog    cat    cat    cat    dog      dog\n",
       "3    dog    dog    dog    cat    dog      dog\n",
       "4    cat    cat    cat    dog    dog      dog"
      ]
     },
     "execution_count": 5,
     "metadata": {},
     "output_type": "execute_result"
    }
   ],
   "source": [
    "#add a baseline column with the value of 'dog'\n",
    "paws['baseline'] = 'dog'\n",
    "paws.head()"
   ]
  },
  {
   "cell_type": "code",
   "execution_count": 34,
   "id": "265fc2f9",
   "metadata": {},
   "outputs": [
    {
     "name": "stdout",
     "output_type": "stream",
     "text": [
      "Paws baseline accuracy: 65.08%\n",
      "-----\n",
      "Paws baseline recall: 100.00%\n",
      "-----\n",
      "Paws baseline precision: 65.08%\n"
     ]
    }
   ],
   "source": [
    "p_base_acc = (paws.baseline == paws.actual).mean()\n",
    "p_subset9 = paws[paws.baseline == 'dog']\n",
    "p_base_pre = (p_subset9.baseline == p_subset9.actual).mean()\n",
    "p_subset10 = paws[paws.actual == 'dog']\n",
    "p_base_rec = (p_subset10.baseline == p_subset10.actual).mean()\n",
    "\n",
    "print(f'Paws baseline accuracy: {p_base_acc:.2%}')\n",
    "print('-----')\n",
    "print(f'Paws baseline recall: {p_base_rec:.2%}')\n",
    "print('-----')\n",
    "print(f'Paws baseline precision: {p_base_pre:.2%}')"
   ]
  },
  {
   "cell_type": "code",
   "execution_count": 36,
   "id": "541afa18",
   "metadata": {},
   "outputs": [
    {
     "name": "stdout",
     "output_type": "stream",
     "text": [
      "Positive = dog\n",
      "=====\n",
      "Paws baseline accuracy: 65.08%\n",
      "Paws model 1 accuracy: 80.74%\n",
      "Paws model 2 accuracy: 63.04%\n",
      "Paws model 3 accuracy: 50.96%\n",
      "Paws model 4 accuracy: 74.26%\n",
      "-----\n",
      "Paws baseline recall: 100.00%\n",
      "Paws model 1 recall: 80.33%\n",
      "Paws model 2 recall: 49.08%\n",
      "Paws model 3 recall: 50.86%\n",
      "Paws model 4 recall: 95.57%\n",
      "-----\n",
      "Paws baseline precision: 65.08%\n",
      "Paws model 1 precision: 89.00%\n",
      "Paws model 2 precision: 89.32%\n",
      "Paws model 3 precision: 65.99%\n",
      "Paws model 4 precision: 73.12%\n"
     ]
    }
   ],
   "source": [
    "#summary of all model evaluations with a prediction of 'dog'\n",
    "print('Positive = dog')\n",
    "print('=====')\n",
    "print(f'Paws baseline accuracy: {p_base_acc:.2%}')\n",
    "print(f'Paws model 1 accuracy: {pm1_acc:.2%}')\n",
    "print(f'Paws model 2 accuracy: {pm2_acc:.2%}')\n",
    "print(f'Paws model 3 accuracy: {pm3_acc:.2%}')\n",
    "print(f'Paws model 4 accuracy: {pm4_acc:.2%}')\n",
    "print('-----')\n",
    "print(f'Paws baseline recall: {p_base_rec:.2%}')\n",
    "print(f'Paws model 1 recall: {pm1_rec:.2%}')\n",
    "print(f'Paws model 2 recall: {pm2_rec:.2%}')\n",
    "print(f'Paws model 3 recall: {pm3_rec:.2%}')\n",
    "print(f'Paws model 4 recall: {pm4_rec:.2%}')\n",
    "print('-----')\n",
    "print(f'Paws baseline precision: {p_base_pre:.2%}')\n",
    "print(f'Paws model 1 precision: {pm1_pre:.2%}')\n",
    "print(f'Paws model 2 precision: {pm2_pre:.2%}')\n",
    "print(f'Paws model 3 precision: {pm3_pre:.2%}')\n",
    "print(f'Paws model 4 precision: {pm4_pre:.2%}')"
   ]
  },
  {
   "cell_type": "code",
   "execution_count": 7,
   "id": "09b13986",
   "metadata": {},
   "outputs": [
    {
     "name": "stdout",
     "output_type": "stream",
     "text": [
      "positive: cat\n",
      "=====\n",
      "Paws baseline accuracy: 65.08%\n",
      "Paws model 1 accuracy: 80.74%\n",
      "Paws model 2 accuracy: 63.04%\n",
      "Paws model 3 accuracy: 50.96%\n",
      "Paws model 4 accuracy: 74.26%\n",
      "-----\n",
      "Paws baseline recall: 0.00%\n",
      "Paws model 1 recall: 81.50%\n",
      "Paws model 2 recall: 89.06%\n",
      "Paws model 3 recall: 51.15%\n",
      "Paws model 4 recall: 34.54%\n",
      "-----\n",
      "Paws baseline precision: nan%\n",
      "Paws model 1 precision: 68.98%\n",
      "Paws model 2 precision: 48.41%\n",
      "Paws model 3 precision: 35.83%\n",
      "Paws model 4 precision: 80.72%\n"
     ]
    }
   ],
   "source": [
    "#put it all together and make an option to enter the 'positive' variable value\n",
    "\n",
    "positive = 'cat'\n",
    "#evaluate baseline\n",
    "p_base_acc = (paws.baseline == paws.actual).mean()\n",
    "p_subset9 = paws[paws.baseline == positive]\n",
    "p_base_pre = (p_subset9.baseline == p_subset9.actual).mean()\n",
    "p_subset10 = paws[paws.actual == positive]\n",
    "p_base_rec = (p_subset10.baseline == p_subset10.actual).mean()\n",
    "#evaluate model 1\n",
    "pm1_acc = (paws.model1 == paws.actual).mean()\n",
    "p_subset1 = paws[paws.model1 == positive]\n",
    "pm1_pre = (p_subset1.model1 == p_subset1.actual).mean()\n",
    "p_subset2 = paws[paws.actual == positive]\n",
    "pm1_rec = (p_subset2.model1 == p_subset2.actual).mean()\n",
    "#evaluate model 2\n",
    "pm2_acc = (paws.model2 == paws.actual).mean()\n",
    "p_subset3 = paws[paws.model2 == positive]\n",
    "pm2_pre = (p_subset3.model2 == p_subset3.actual).mean()\n",
    "p_subset4 = paws[paws.actual == positive]\n",
    "pm2_rec = (p_subset4.model2 == p_subset4.actual).mean()\n",
    "#evaluate model 3\n",
    "pm3_acc = (paws.model3 == paws.actual).mean()\n",
    "p_subset5 = paws[paws.model3 == positive]\n",
    "pm3_pre = (p_subset5.model3 == p_subset5.actual).mean()\n",
    "p_subset6 = paws[paws.actual == positive]\n",
    "pm3_rec = (p_subset6.model3 == p_subset6.actual).mean()\n",
    "#evaluate model 4\n",
    "pm4_acc = (paws.model4 == paws.actual).mean()\n",
    "p_subset7 = paws[paws.model4 == positive]\n",
    "pm4_pre = (p_subset7.model4 == p_subset7.actual).mean()\n",
    "p_subset8 = paws[paws.actual == positive]\n",
    "pm4_rec = (p_subset8.model4 == p_subset8.actual).mean()\n",
    "\n",
    "#print the evaluation results\n",
    "print(f'positive: {positive}')\n",
    "print('=====')\n",
    "print(f'Paws baseline accuracy: {p_base_acc:.2%}')\n",
    "print(f'Paws model 1 accuracy: {pm1_acc:.2%}')\n",
    "print(f'Paws model 2 accuracy: {pm2_acc:.2%}')\n",
    "print(f'Paws model 3 accuracy: {pm3_acc:.2%}')\n",
    "print(f'Paws model 4 accuracy: {pm4_acc:.2%}')\n",
    "print('-----')\n",
    "print(f'Paws baseline recall: {p_base_rec:.2%}')\n",
    "print(f'Paws model 1 recall: {pm1_rec:.2%}')\n",
    "print(f'Paws model 2 recall: {pm2_rec:.2%}')\n",
    "print(f'Paws model 3 recall: {pm3_rec:.2%}')\n",
    "print(f'Paws model 4 recall: {pm4_rec:.2%}')\n",
    "print('-----')\n",
    "print(f'Paws baseline precision: {p_base_pre:.2%}')\n",
    "print(f'Paws model 1 precision: {pm1_pre:.2%}')\n",
    "print(f'Paws model 2 precision: {pm2_pre:.2%}')\n",
    "print(f'Paws model 3 precision: {pm3_pre:.2%}')\n",
    "print(f'Paws model 4 precision: {pm4_pre:.2%}')"
   ]
  },
  {
   "cell_type": "markdown",
   "id": "3728214d",
   "metadata": {},
   "source": [
    "##### Conceptual question answers:\n",
    "In terms of accuracy, how do the various models compare to the baseline model? Are any of the models better than the baseline?\n",
    "- model 1 and 4 have better accuracy than baseline \n",
    "\n",
    "Suppose you are working on a team that solely deals with dog pictures. Which of these models would you recomend for Phase I? For Phase II?\n",
    "- phase 1 should prioritize reducing false negatives and phase 2 should prioritize reducing false positives\n",
    "- for dog pictures model 4 should be used for phase 1 because it has the highest recall value and model 2 should be used for phase 2 because it has the highest precision value\n",
    "\n",
    "Suppose you are working on a team that solely deals with cat pictures. Which of these models would you recomend for - Phase I? For Phase II?\n",
    "- phase 1 should prioritize reducing false negatives and phase 2 should prioritize reducing false positives\n",
    "- for cat pictures model 2 should be used for phase 1 because it has the highest recall value and model 4 should be used for phase 2 because it has the highest precision value\n",
    "\n",
    "#note - if we decided to remove models 2 and 3 because the accuracy was lower than baseline we would substitute model 1 for model 2 in the above responses."
   ]
  },
  {
   "cell_type": "markdown",
   "id": "e1320dd2",
   "metadata": {},
   "source": [
    "---"
   ]
  },
  {
   "cell_type": "markdown",
   "id": "5c6d552b",
   "metadata": {},
   "source": [
    "#### 4. Follow the links below to read the documentation about each function, then apply those functions to the data from the previous problem.\n",
    "\n",
    "- sklearn.metrics.accuracy_score\n",
    "- sklearn.metrics.precision_score\n",
    "- sklearn.metrics.recall_score\n",
    "- sklearn.metrics.classification_report"
   ]
  },
  {
   "cell_type": "code",
   "execution_count": 15,
   "id": "ff2e0363",
   "metadata": {},
   "outputs": [
    {
     "name": "stdout",
     "output_type": "stream",
     "text": [
      "paws model 1 accuracy:  80.74%\n",
      "paws model 2 accuracy:  63.04%\n",
      "paws model 3 accuracy:  50.96%\n",
      "paws model 4 accuracy:  74.26%\n"
     ]
    }
   ],
   "source": [
    "from sklearn.metrics import accuracy_score\n",
    "#sklearn.metrics.accuracy_score\n",
    "paws_actual = paws.actual\n",
    "paws_m1 = paws.model1\n",
    "paws_m2 = paws.model2\n",
    "paws_m3 = paws.model3\n",
    "paws_m4 = paws.model4\n",
    "\n",
    "print(f'paws model 1 accuracy: {accuracy_score(paws_actual, paws_m1): .2%}')\n",
    "print(f'paws model 2 accuracy: {accuracy_score(paws_actual, paws_m2): .2%}')\n",
    "print(f'paws model 3 accuracy: {accuracy_score(paws_actual, paws_m3): .2%}')\n",
    "print(f'paws model 4 accuracy: {accuracy_score(paws_actual, paws_m4): .2%}')"
   ]
  },
  {
   "cell_type": "code",
   "execution_count": 26,
   "id": "9d3c24dd",
   "metadata": {},
   "outputs": [
    {
     "name": "stdout",
     "output_type": "stream",
     "text": [
      "positive: dog\n",
      "=====\n",
      "paws model 1 precision:  89.00%\n",
      "paws model 2 precision:  89.32%\n",
      "paws model 3 precision:  65.99%\n",
      "paws model 4 precision:  73.12%\n"
     ]
    }
   ],
   "source": [
    "from sklearn.metrics import precision_score\n",
    "#sklearn.metrics.precision_score - using above created variables\n",
    "\n",
    "positive = 'dog'\n",
    "\n",
    "print(f'positive: {positive}')\n",
    "print('=====')\n",
    "print(f'paws model 1 precision: {precision_score(paws_actual, paws_m1, pos_label=positive): .2%}')\n",
    "print(f'paws model 2 precision: {precision_score(paws_actual, paws_m2, pos_label=positive): .2%}')\n",
    "print(f'paws model 3 precision: {precision_score(paws_actual, paws_m3, pos_label=positive): .2%}')\n",
    "print(f'paws model 4 precision: {precision_score(paws_actual, paws_m4, pos_label=positive): .2%}')"
   ]
  },
  {
   "cell_type": "code",
   "execution_count": 27,
   "id": "ebfab783",
   "metadata": {},
   "outputs": [
    {
     "name": "stdout",
     "output_type": "stream",
     "text": [
      "positive: dog\n",
      "=====\n",
      "paws model 1 recall:  80.33%\n",
      "paws model 2 recall:  49.08%\n",
      "paws model 3 recall:  50.86%\n",
      "paws model 4 recall:  95.57%\n"
     ]
    }
   ],
   "source": [
    "from sklearn.metrics import recall_score\n",
    "#sklearn.metrics.recall_score\n",
    "\n",
    "positive = 'dog'\n",
    "\n",
    "print(f'positive: {positive}')\n",
    "print('=====')\n",
    "print(f'paws model 1 recall: {recall_score(paws_actual, paws_m1, pos_label=positive): .2%}')\n",
    "print(f'paws model 2 recall: {recall_score(paws_actual, paws_m2, pos_label=positive): .2%}')\n",
    "print(f'paws model 3 recall: {recall_score(paws_actual, paws_m3, pos_label=positive): .2%}')\n",
    "print(f'paws model 4 recall: {recall_score(paws_actual, paws_m4, pos_label=positive): .2%}')"
   ]
  },
  {
   "cell_type": "code",
   "execution_count": 28,
   "id": "486e853b",
   "metadata": {},
   "outputs": [
    {
     "name": "stdout",
     "output_type": "stream",
     "text": [
      "              precision    recall  f1-score   support\n",
      "\n",
      "         dog       0.69      0.82      0.75      1746\n",
      "         cat       0.89      0.80      0.84      3254\n",
      "\n",
      "    accuracy                           0.81      5000\n",
      "   macro avg       0.79      0.81      0.80      5000\n",
      "weighted avg       0.82      0.81      0.81      5000\n",
      "\n"
     ]
    }
   ],
   "source": [
    "from sklearn.metrics import classification_report\n",
    "#sklearn.metrics.classification_report\n",
    "\n",
    "#classification report for model 1\n",
    "target_names = ['dog', 'cat']\n",
    "print(classification_report(paws.actual, paws.model1, target_names=target_names))"
   ]
  },
  {
   "cell_type": "code",
   "execution_count": 29,
   "id": "9dd1b9a6",
   "metadata": {},
   "outputs": [
    {
     "name": "stdout",
     "output_type": "stream",
     "text": [
      "              precision    recall  f1-score   support\n",
      "\n",
      "         dog       0.48      0.89      0.63      1746\n",
      "         cat       0.89      0.49      0.63      3254\n",
      "\n",
      "    accuracy                           0.63      5000\n",
      "   macro avg       0.69      0.69      0.63      5000\n",
      "weighted avg       0.75      0.63      0.63      5000\n",
      "\n"
     ]
    }
   ],
   "source": [
    "#classification report for model 2\n",
    "target_names = ['dog', 'cat']\n",
    "print(classification_report(paws.actual, paws.model2, target_names=target_names))"
   ]
  },
  {
   "cell_type": "code",
   "execution_count": 30,
   "id": "bd946d6b",
   "metadata": {},
   "outputs": [
    {
     "name": "stdout",
     "output_type": "stream",
     "text": [
      "              precision    recall  f1-score   support\n",
      "\n",
      "         dog       0.36      0.51      0.42      1746\n",
      "         cat       0.66      0.51      0.57      3254\n",
      "\n",
      "    accuracy                           0.51      5000\n",
      "   macro avg       0.51      0.51      0.50      5000\n",
      "weighted avg       0.55      0.51      0.52      5000\n",
      "\n"
     ]
    }
   ],
   "source": [
    "#classification report for model 3\n",
    "target_names = ['dog', 'cat']\n",
    "print(classification_report(paws.actual, paws.model3, target_names=target_names))"
   ]
  },
  {
   "cell_type": "code",
   "execution_count": 31,
   "id": "14bde6bf",
   "metadata": {},
   "outputs": [
    {
     "name": "stdout",
     "output_type": "stream",
     "text": [
      "              precision    recall  f1-score   support\n",
      "\n",
      "         dog       0.81      0.35      0.48      1746\n",
      "         cat       0.73      0.96      0.83      3254\n",
      "\n",
      "    accuracy                           0.74      5000\n",
      "   macro avg       0.77      0.65      0.66      5000\n",
      "weighted avg       0.76      0.74      0.71      5000\n",
      "\n"
     ]
    }
   ],
   "source": [
    "#classification report for model 4\n",
    "target_names = ['dog', 'cat']\n",
    "print(classification_report(paws.actual, paws.model4, target_names=target_names))"
   ]
  },
  {
   "cell_type": "code",
   "execution_count": null,
   "id": "eff7dcc9",
   "metadata": {},
   "outputs": [],
   "source": []
  }
 ],
 "metadata": {
  "kernelspec": {
   "display_name": "Python 3 (ipykernel)",
   "language": "python",
   "name": "python3"
  },
  "language_info": {
   "codemirror_mode": {
    "name": "ipython",
    "version": 3
   },
   "file_extension": ".py",
   "mimetype": "text/x-python",
   "name": "python",
   "nbconvert_exporter": "python",
   "pygments_lexer": "ipython3",
   "version": "3.9.7"
  }
 },
 "nbformat": 4,
 "nbformat_minor": 5
}
